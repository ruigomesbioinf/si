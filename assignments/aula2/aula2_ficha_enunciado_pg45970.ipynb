{
 "cells": [
  {
   "cell_type": "markdown",
   "metadata": {},
   "source": [
    "## Dataset cachexia - Exploração de dados, pré-processamento e análise estatística univariada\n",
    "Nesta secção vamos trabalhar com os dados do dataset Cachexia : \n",
    "\n",
    "*\"Concentrations of 63 metabolites in 77 urine samples from cancer patients, measured by 1H NMR (Eisner et al, 2011). Metadata defines the two groups: control and cachexic patients.\"*\n",
    "\n",
    "Importação e análise da dimensão dos dados"
   ]
  },
  {
   "cell_type": "code",
   "execution_count": 4,
   "metadata": {},
   "outputs": [],
   "source": [
    "import numpy as np \n",
    "import pandas as pd\n",
    "import matplotlib.pyplot as plt\n",
    "import pandas as pd\n",
    "# para desenhar os gráficos dentro do notebook\n",
    "%matplotlib inline\n"
   ]
  },
  {
   "cell_type": "code",
   "execution_count": 5,
   "metadata": {},
   "outputs": [
    {
     "name": "stdout",
     "output_type": "stream",
     "text": [
      "(77, 63)\n",
      "(77, 1)\n"
     ]
    },
    {
     "data": {
      "text/html": [
       "<div>\n",
       "<style scoped>\n",
       "    .dataframe tbody tr th:only-of-type {\n",
       "        vertical-align: middle;\n",
       "    }\n",
       "\n",
       "    .dataframe tbody tr th {\n",
       "        vertical-align: top;\n",
       "    }\n",
       "\n",
       "    .dataframe thead th {\n",
       "        text-align: right;\n",
       "    }\n",
       "</style>\n",
       "<table border=\"1\" class=\"dataframe\">\n",
       "  <thead>\n",
       "    <tr style=\"text-align: right;\">\n",
       "      <th></th>\n",
       "      <th>1.6-Anhydro-beta-D-glucose</th>\n",
       "      <th>1-Methylnicotinamide</th>\n",
       "      <th>2-Aminobutyrate</th>\n",
       "      <th>2-Hydroxyisobutyrate</th>\n",
       "      <th>2-Oxoglutarate</th>\n",
       "      <th>3-Aminoisobutyrate</th>\n",
       "      <th>3-Hydroxybutyrate</th>\n",
       "      <th>3-Hydroxyisovalerate</th>\n",
       "      <th>3-Indoxylsulfate</th>\n",
       "      <th>4-Hydroxyphenylacetate</th>\n",
       "      <th>...</th>\n",
       "      <th>Tryptophan</th>\n",
       "      <th>Tyrosine</th>\n",
       "      <th>Uracil</th>\n",
       "      <th>Valine</th>\n",
       "      <th>Xylose</th>\n",
       "      <th>cis-Aconitate</th>\n",
       "      <th>myo-Inositol</th>\n",
       "      <th>trans-Aconitate</th>\n",
       "      <th>pi-Methylhistidine</th>\n",
       "      <th>tau-Methylhistidine</th>\n",
       "    </tr>\n",
       "    <tr>\n",
       "      <th>Patient ID</th>\n",
       "      <th></th>\n",
       "      <th></th>\n",
       "      <th></th>\n",
       "      <th></th>\n",
       "      <th></th>\n",
       "      <th></th>\n",
       "      <th></th>\n",
       "      <th></th>\n",
       "      <th></th>\n",
       "      <th></th>\n",
       "      <th></th>\n",
       "      <th></th>\n",
       "      <th></th>\n",
       "      <th></th>\n",
       "      <th></th>\n",
       "      <th></th>\n",
       "      <th></th>\n",
       "      <th></th>\n",
       "      <th></th>\n",
       "      <th></th>\n",
       "      <th></th>\n",
       "    </tr>\n",
       "  </thead>\n",
       "  <tbody>\n",
       "    <tr>\n",
       "      <th>PIF_178</th>\n",
       "      <td>40.85</td>\n",
       "      <td>65.37</td>\n",
       "      <td>18.73</td>\n",
       "      <td>26.05</td>\n",
       "      <td>71.52</td>\n",
       "      <td>1480.30</td>\n",
       "      <td>56.83</td>\n",
       "      <td>10.07</td>\n",
       "      <td>566.80</td>\n",
       "      <td>120.30</td>\n",
       "      <td>...</td>\n",
       "      <td>259.82</td>\n",
       "      <td>290.03</td>\n",
       "      <td>111.05</td>\n",
       "      <td>86.49</td>\n",
       "      <td>72.24</td>\n",
       "      <td>237.46</td>\n",
       "      <td>135.64</td>\n",
       "      <td>51.94</td>\n",
       "      <td>157.59</td>\n",
       "      <td>160.77</td>\n",
       "    </tr>\n",
       "    <tr>\n",
       "      <th>PIF_087</th>\n",
       "      <td>62.18</td>\n",
       "      <td>340.36</td>\n",
       "      <td>24.29</td>\n",
       "      <td>41.68</td>\n",
       "      <td>67.36</td>\n",
       "      <td>116.75</td>\n",
       "      <td>43.82</td>\n",
       "      <td>79.84</td>\n",
       "      <td>368.71</td>\n",
       "      <td>432.68</td>\n",
       "      <td>...</td>\n",
       "      <td>83.10</td>\n",
       "      <td>167.34</td>\n",
       "      <td>46.99</td>\n",
       "      <td>109.95</td>\n",
       "      <td>192.48</td>\n",
       "      <td>333.62</td>\n",
       "      <td>376.15</td>\n",
       "      <td>217.02</td>\n",
       "      <td>307.97</td>\n",
       "      <td>130.32</td>\n",
       "    </tr>\n",
       "    <tr>\n",
       "      <th>PIF_090</th>\n",
       "      <td>270.43</td>\n",
       "      <td>64.72</td>\n",
       "      <td>12.18</td>\n",
       "      <td>65.37</td>\n",
       "      <td>23.81</td>\n",
       "      <td>14.30</td>\n",
       "      <td>5.64</td>\n",
       "      <td>23.34</td>\n",
       "      <td>665.14</td>\n",
       "      <td>292.95</td>\n",
       "      <td>...</td>\n",
       "      <td>82.27</td>\n",
       "      <td>60.34</td>\n",
       "      <td>31.50</td>\n",
       "      <td>59.15</td>\n",
       "      <td>2164.62</td>\n",
       "      <td>330.30</td>\n",
       "      <td>86.49</td>\n",
       "      <td>58.56</td>\n",
       "      <td>145.47</td>\n",
       "      <td>83.93</td>\n",
       "    </tr>\n",
       "    <tr>\n",
       "      <th>NETL_005_V1</th>\n",
       "      <td>154.47</td>\n",
       "      <td>52.98</td>\n",
       "      <td>172.43</td>\n",
       "      <td>74.44</td>\n",
       "      <td>1199.91</td>\n",
       "      <td>555.57</td>\n",
       "      <td>175.91</td>\n",
       "      <td>25.03</td>\n",
       "      <td>411.58</td>\n",
       "      <td>214.86</td>\n",
       "      <td>...</td>\n",
       "      <td>235.10</td>\n",
       "      <td>323.76</td>\n",
       "      <td>30.57</td>\n",
       "      <td>102.51</td>\n",
       "      <td>125.21</td>\n",
       "      <td>1863.11</td>\n",
       "      <td>247.15</td>\n",
       "      <td>75.94</td>\n",
       "      <td>249.64</td>\n",
       "      <td>254.68</td>\n",
       "    </tr>\n",
       "    <tr>\n",
       "      <th>PIF_115</th>\n",
       "      <td>22.20</td>\n",
       "      <td>73.70</td>\n",
       "      <td>15.64</td>\n",
       "      <td>83.93</td>\n",
       "      <td>33.12</td>\n",
       "      <td>29.67</td>\n",
       "      <td>76.71</td>\n",
       "      <td>69.41</td>\n",
       "      <td>165.67</td>\n",
       "      <td>97.51</td>\n",
       "      <td>...</td>\n",
       "      <td>103.54</td>\n",
       "      <td>142.59</td>\n",
       "      <td>44.26</td>\n",
       "      <td>160.77</td>\n",
       "      <td>186.79</td>\n",
       "      <td>101.49</td>\n",
       "      <td>749.95</td>\n",
       "      <td>98.49</td>\n",
       "      <td>84.77</td>\n",
       "      <td>79.84</td>\n",
       "    </tr>\n",
       "  </tbody>\n",
       "</table>\n",
       "<p>5 rows × 63 columns</p>\n",
       "</div>"
      ],
      "text/plain": [
       "             1.6-Anhydro-beta-D-glucose  1-Methylnicotinamide  \\\n",
       "Patient ID                                                      \n",
       "PIF_178                           40.85                 65.37   \n",
       "PIF_087                           62.18                340.36   \n",
       "PIF_090                          270.43                 64.72   \n",
       "NETL_005_V1                      154.47                 52.98   \n",
       "PIF_115                           22.20                 73.70   \n",
       "\n",
       "             2-Aminobutyrate  2-Hydroxyisobutyrate  2-Oxoglutarate  \\\n",
       "Patient ID                                                           \n",
       "PIF_178                18.73                 26.05           71.52   \n",
       "PIF_087                24.29                 41.68           67.36   \n",
       "PIF_090                12.18                 65.37           23.81   \n",
       "NETL_005_V1           172.43                 74.44         1199.91   \n",
       "PIF_115                15.64                 83.93           33.12   \n",
       "\n",
       "             3-Aminoisobutyrate  3-Hydroxybutyrate  3-Hydroxyisovalerate  \\\n",
       "Patient ID                                                                 \n",
       "PIF_178                 1480.30              56.83                 10.07   \n",
       "PIF_087                  116.75              43.82                 79.84   \n",
       "PIF_090                   14.30               5.64                 23.34   \n",
       "NETL_005_V1              555.57             175.91                 25.03   \n",
       "PIF_115                   29.67              76.71                 69.41   \n",
       "\n",
       "             3-Indoxylsulfate  4-Hydroxyphenylacetate  ...  Tryptophan  \\\n",
       "Patient ID                                             ...               \n",
       "PIF_178                566.80                  120.30  ...      259.82   \n",
       "PIF_087                368.71                  432.68  ...       83.10   \n",
       "PIF_090                665.14                  292.95  ...       82.27   \n",
       "NETL_005_V1            411.58                  214.86  ...      235.10   \n",
       "PIF_115                165.67                   97.51  ...      103.54   \n",
       "\n",
       "             Tyrosine  Uracil  Valine   Xylose  cis-Aconitate  myo-Inositol  \\\n",
       "Patient ID                                                                    \n",
       "PIF_178        290.03  111.05   86.49    72.24         237.46        135.64   \n",
       "PIF_087        167.34   46.99  109.95   192.48         333.62        376.15   \n",
       "PIF_090         60.34   31.50   59.15  2164.62         330.30         86.49   \n",
       "NETL_005_V1    323.76   30.57  102.51   125.21        1863.11        247.15   \n",
       "PIF_115        142.59   44.26  160.77   186.79         101.49        749.95   \n",
       "\n",
       "             trans-Aconitate  pi-Methylhistidine  tau-Methylhistidine  \n",
       "Patient ID                                                             \n",
       "PIF_178                51.94              157.59               160.77  \n",
       "PIF_087               217.02              307.97               130.32  \n",
       "PIF_090                58.56              145.47                83.93  \n",
       "NETL_005_V1            75.94              249.64               254.68  \n",
       "PIF_115                98.49               84.77                79.84  \n",
       "\n",
       "[5 rows x 63 columns]"
      ]
     },
     "execution_count": 5,
     "metadata": {},
     "output_type": "execute_result"
    }
   ],
   "source": [
    "data = pd.read_csv('data_cachexia.csv',sep=',', index_col = 0)\n",
    "meta = pd.read_csv('meta_cachexia.csv',sep=',', index_col = 0)\n",
    "print (data.shape)\n",
    "print (meta.shape)\n",
    "data.head()"
   ]
  },
  {
   "cell_type": "markdown",
   "metadata": {},
   "source": [
    "Sumário dos dados"
   ]
  },
  {
   "cell_type": "code",
   "execution_count": 6,
   "metadata": {},
   "outputs": [
    {
     "data": {
      "text/html": [
       "<div>\n",
       "<style scoped>\n",
       "    .dataframe tbody tr th:only-of-type {\n",
       "        vertical-align: middle;\n",
       "    }\n",
       "\n",
       "    .dataframe tbody tr th {\n",
       "        vertical-align: top;\n",
       "    }\n",
       "\n",
       "    .dataframe thead th {\n",
       "        text-align: right;\n",
       "    }\n",
       "</style>\n",
       "<table border=\"1\" class=\"dataframe\">\n",
       "  <thead>\n",
       "    <tr style=\"text-align: right;\">\n",
       "      <th></th>\n",
       "      <th>1.6-Anhydro-beta-D-glucose</th>\n",
       "      <th>1-Methylnicotinamide</th>\n",
       "      <th>2-Aminobutyrate</th>\n",
       "      <th>2-Hydroxyisobutyrate</th>\n",
       "      <th>2-Oxoglutarate</th>\n",
       "      <th>3-Aminoisobutyrate</th>\n",
       "      <th>3-Hydroxybutyrate</th>\n",
       "      <th>3-Hydroxyisovalerate</th>\n",
       "      <th>3-Indoxylsulfate</th>\n",
       "      <th>4-Hydroxyphenylacetate</th>\n",
       "      <th>...</th>\n",
       "      <th>Tryptophan</th>\n",
       "      <th>Tyrosine</th>\n",
       "      <th>Uracil</th>\n",
       "      <th>Valine</th>\n",
       "      <th>Xylose</th>\n",
       "      <th>cis-Aconitate</th>\n",
       "      <th>myo-Inositol</th>\n",
       "      <th>trans-Aconitate</th>\n",
       "      <th>pi-Methylhistidine</th>\n",
       "      <th>tau-Methylhistidine</th>\n",
       "    </tr>\n",
       "  </thead>\n",
       "  <tbody>\n",
       "    <tr>\n",
       "      <th>count</th>\n",
       "      <td>77.000000</td>\n",
       "      <td>77.000000</td>\n",
       "      <td>77.000000</td>\n",
       "      <td>77.000000</td>\n",
       "      <td>77.000000</td>\n",
       "      <td>77.000000</td>\n",
       "      <td>77.000000</td>\n",
       "      <td>77.000000</td>\n",
       "      <td>77.000000</td>\n",
       "      <td>77.000000</td>\n",
       "      <td>...</td>\n",
       "      <td>77.000000</td>\n",
       "      <td>77.000000</td>\n",
       "      <td>77.000000</td>\n",
       "      <td>77.000000</td>\n",
       "      <td>77.000000</td>\n",
       "      <td>77.000000</td>\n",
       "      <td>77.000000</td>\n",
       "      <td>77.000000</td>\n",
       "      <td>77.000000</td>\n",
       "      <td>77.000000</td>\n",
       "    </tr>\n",
       "    <tr>\n",
       "      <th>mean</th>\n",
       "      <td>105.630390</td>\n",
       "      <td>71.573636</td>\n",
       "      <td>18.159740</td>\n",
       "      <td>37.250649</td>\n",
       "      <td>145.087143</td>\n",
       "      <td>76.756364</td>\n",
       "      <td>21.717013</td>\n",
       "      <td>21.647792</td>\n",
       "      <td>218.879221</td>\n",
       "      <td>112.021039</td>\n",
       "      <td>...</td>\n",
       "      <td>66.243117</td>\n",
       "      <td>81.757273</td>\n",
       "      <td>35.557662</td>\n",
       "      <td>35.667013</td>\n",
       "      <td>100.933377</td>\n",
       "      <td>204.219740</td>\n",
       "      <td>135.397532</td>\n",
       "      <td>40.630390</td>\n",
       "      <td>370.288312</td>\n",
       "      <td>89.686883</td>\n",
       "    </tr>\n",
       "    <tr>\n",
       "      <th>std</th>\n",
       "      <td>130.025595</td>\n",
       "      <td>133.192811</td>\n",
       "      <td>27.614526</td>\n",
       "      <td>23.956807</td>\n",
       "      <td>342.522174</td>\n",
       "      <td>191.014237</td>\n",
       "      <td>26.198904</td>\n",
       "      <td>24.946091</td>\n",
       "      <td>196.868730</td>\n",
       "      <td>120.812569</td>\n",
       "      <td>...</td>\n",
       "      <td>56.333318</td>\n",
       "      <td>83.248486</td>\n",
       "      <td>35.002894</td>\n",
       "      <td>29.697365</td>\n",
       "      <td>250.216325</td>\n",
       "      <td>278.141989</td>\n",
       "      <td>170.266474</td>\n",
       "      <td>39.566754</td>\n",
       "      <td>530.689300</td>\n",
       "      <td>77.239064</td>\n",
       "    </tr>\n",
       "    <tr>\n",
       "      <th>min</th>\n",
       "      <td>4.710000</td>\n",
       "      <td>6.420000</td>\n",
       "      <td>1.280000</td>\n",
       "      <td>4.850000</td>\n",
       "      <td>5.530000</td>\n",
       "      <td>2.610000</td>\n",
       "      <td>1.700000</td>\n",
       "      <td>0.920000</td>\n",
       "      <td>27.660000</td>\n",
       "      <td>15.490000</td>\n",
       "      <td>...</td>\n",
       "      <td>8.670000</td>\n",
       "      <td>4.220000</td>\n",
       "      <td>3.100000</td>\n",
       "      <td>4.100000</td>\n",
       "      <td>10.070000</td>\n",
       "      <td>12.940000</td>\n",
       "      <td>11.590000</td>\n",
       "      <td>4.900000</td>\n",
       "      <td>11.360000</td>\n",
       "      <td>8.000000</td>\n",
       "    </tr>\n",
       "    <tr>\n",
       "      <th>25%</th>\n",
       "      <td>28.790000</td>\n",
       "      <td>15.800000</td>\n",
       "      <td>5.260000</td>\n",
       "      <td>15.800000</td>\n",
       "      <td>22.420000</td>\n",
       "      <td>11.700000</td>\n",
       "      <td>5.990000</td>\n",
       "      <td>5.260000</td>\n",
       "      <td>82.270000</td>\n",
       "      <td>41.680000</td>\n",
       "      <td>...</td>\n",
       "      <td>21.330000</td>\n",
       "      <td>23.570000</td>\n",
       "      <td>11.940000</td>\n",
       "      <td>12.180000</td>\n",
       "      <td>29.960000</td>\n",
       "      <td>36.230000</td>\n",
       "      <td>30.270000</td>\n",
       "      <td>12.430000</td>\n",
       "      <td>67.360000</td>\n",
       "      <td>27.390000</td>\n",
       "    </tr>\n",
       "    <tr>\n",
       "      <th>50%</th>\n",
       "      <td>45.600000</td>\n",
       "      <td>36.600000</td>\n",
       "      <td>10.490000</td>\n",
       "      <td>32.460000</td>\n",
       "      <td>55.150000</td>\n",
       "      <td>22.650000</td>\n",
       "      <td>11.700000</td>\n",
       "      <td>12.550000</td>\n",
       "      <td>144.030000</td>\n",
       "      <td>70.110000</td>\n",
       "      <td>...</td>\n",
       "      <td>46.990000</td>\n",
       "      <td>60.340000</td>\n",
       "      <td>27.390000</td>\n",
       "      <td>33.120000</td>\n",
       "      <td>50.400000</td>\n",
       "      <td>129.020000</td>\n",
       "      <td>78.260000</td>\n",
       "      <td>26.840000</td>\n",
       "      <td>162.390000</td>\n",
       "      <td>68.720000</td>\n",
       "    </tr>\n",
       "    <tr>\n",
       "      <th>75%</th>\n",
       "      <td>141.170000</td>\n",
       "      <td>73.700000</td>\n",
       "      <td>19.490000</td>\n",
       "      <td>54.600000</td>\n",
       "      <td>92.760000</td>\n",
       "      <td>56.260000</td>\n",
       "      <td>29.960000</td>\n",
       "      <td>30.270000</td>\n",
       "      <td>333.620000</td>\n",
       "      <td>145.470000</td>\n",
       "      <td>...</td>\n",
       "      <td>96.540000</td>\n",
       "      <td>113.300000</td>\n",
       "      <td>44.260000</td>\n",
       "      <td>50.400000</td>\n",
       "      <td>89.120000</td>\n",
       "      <td>254.680000</td>\n",
       "      <td>167.340000</td>\n",
       "      <td>57.400000</td>\n",
       "      <td>387.610000</td>\n",
       "      <td>130.320000</td>\n",
       "    </tr>\n",
       "    <tr>\n",
       "      <th>max</th>\n",
       "      <td>685.400000</td>\n",
       "      <td>1032.770000</td>\n",
       "      <td>172.430000</td>\n",
       "      <td>93.690000</td>\n",
       "      <td>2465.130000</td>\n",
       "      <td>1480.300000</td>\n",
       "      <td>175.910000</td>\n",
       "      <td>164.020000</td>\n",
       "      <td>1043.150000</td>\n",
       "      <td>796.320000</td>\n",
       "      <td>...</td>\n",
       "      <td>259.820000</td>\n",
       "      <td>539.150000</td>\n",
       "      <td>179.470000</td>\n",
       "      <td>160.770000</td>\n",
       "      <td>2164.620000</td>\n",
       "      <td>1863.110000</td>\n",
       "      <td>854.060000</td>\n",
       "      <td>217.020000</td>\n",
       "      <td>2697.280000</td>\n",
       "      <td>317.350000</td>\n",
       "    </tr>\n",
       "  </tbody>\n",
       "</table>\n",
       "<p>8 rows × 63 columns</p>\n",
       "</div>"
      ],
      "text/plain": [
       "       1.6-Anhydro-beta-D-glucose  1-Methylnicotinamide  2-Aminobutyrate  \\\n",
       "count                   77.000000             77.000000        77.000000   \n",
       "mean                   105.630390             71.573636        18.159740   \n",
       "std                    130.025595            133.192811        27.614526   \n",
       "min                      4.710000              6.420000         1.280000   \n",
       "25%                     28.790000             15.800000         5.260000   \n",
       "50%                     45.600000             36.600000        10.490000   \n",
       "75%                    141.170000             73.700000        19.490000   \n",
       "max                    685.400000           1032.770000       172.430000   \n",
       "\n",
       "       2-Hydroxyisobutyrate  2-Oxoglutarate  3-Aminoisobutyrate  \\\n",
       "count             77.000000       77.000000           77.000000   \n",
       "mean              37.250649      145.087143           76.756364   \n",
       "std               23.956807      342.522174          191.014237   \n",
       "min                4.850000        5.530000            2.610000   \n",
       "25%               15.800000       22.420000           11.700000   \n",
       "50%               32.460000       55.150000           22.650000   \n",
       "75%               54.600000       92.760000           56.260000   \n",
       "max               93.690000     2465.130000         1480.300000   \n",
       "\n",
       "       3-Hydroxybutyrate  3-Hydroxyisovalerate  3-Indoxylsulfate  \\\n",
       "count          77.000000             77.000000         77.000000   \n",
       "mean           21.717013             21.647792        218.879221   \n",
       "std            26.198904             24.946091        196.868730   \n",
       "min             1.700000              0.920000         27.660000   \n",
       "25%             5.990000              5.260000         82.270000   \n",
       "50%            11.700000             12.550000        144.030000   \n",
       "75%            29.960000             30.270000        333.620000   \n",
       "max           175.910000            164.020000       1043.150000   \n",
       "\n",
       "       4-Hydroxyphenylacetate  ...  Tryptophan    Tyrosine      Uracil  \\\n",
       "count               77.000000  ...   77.000000   77.000000   77.000000   \n",
       "mean               112.021039  ...   66.243117   81.757273   35.557662   \n",
       "std                120.812569  ...   56.333318   83.248486   35.002894   \n",
       "min                 15.490000  ...    8.670000    4.220000    3.100000   \n",
       "25%                 41.680000  ...   21.330000   23.570000   11.940000   \n",
       "50%                 70.110000  ...   46.990000   60.340000   27.390000   \n",
       "75%                145.470000  ...   96.540000  113.300000   44.260000   \n",
       "max                796.320000  ...  259.820000  539.150000  179.470000   \n",
       "\n",
       "           Valine       Xylose  cis-Aconitate  myo-Inositol  trans-Aconitate  \\\n",
       "count   77.000000    77.000000      77.000000     77.000000        77.000000   \n",
       "mean    35.667013   100.933377     204.219740    135.397532        40.630390   \n",
       "std     29.697365   250.216325     278.141989    170.266474        39.566754   \n",
       "min      4.100000    10.070000      12.940000     11.590000         4.900000   \n",
       "25%     12.180000    29.960000      36.230000     30.270000        12.430000   \n",
       "50%     33.120000    50.400000     129.020000     78.260000        26.840000   \n",
       "75%     50.400000    89.120000     254.680000    167.340000        57.400000   \n",
       "max    160.770000  2164.620000    1863.110000    854.060000       217.020000   \n",
       "\n",
       "       pi-Methylhistidine  tau-Methylhistidine  \n",
       "count           77.000000            77.000000  \n",
       "mean           370.288312            89.686883  \n",
       "std            530.689300            77.239064  \n",
       "min             11.360000             8.000000  \n",
       "25%             67.360000            27.390000  \n",
       "50%            162.390000            68.720000  \n",
       "75%            387.610000           130.320000  \n",
       "max           2697.280000           317.350000  \n",
       "\n",
       "[8 rows x 63 columns]"
      ]
     },
     "execution_count": 6,
     "metadata": {},
     "output_type": "execute_result"
    }
   ],
   "source": [
    "data.describe()"
   ]
  },
  {
   "cell_type": "markdown",
   "metadata": {},
   "source": [
    "Sumário dos metadados "
   ]
  },
  {
   "cell_type": "code",
   "execution_count": 7,
   "metadata": {},
   "outputs": [
    {
     "data": {
      "text/html": [
       "<div>\n",
       "<style scoped>\n",
       "    .dataframe tbody tr th:only-of-type {\n",
       "        vertical-align: middle;\n",
       "    }\n",
       "\n",
       "    .dataframe tbody tr th {\n",
       "        vertical-align: top;\n",
       "    }\n",
       "\n",
       "    .dataframe thead th {\n",
       "        text-align: right;\n",
       "    }\n",
       "</style>\n",
       "<table border=\"1\" class=\"dataframe\">\n",
       "  <thead>\n",
       "    <tr style=\"text-align: right;\">\n",
       "      <th></th>\n",
       "      <th>Muscle.loss</th>\n",
       "    </tr>\n",
       "  </thead>\n",
       "  <tbody>\n",
       "    <tr>\n",
       "      <th>count</th>\n",
       "      <td>77</td>\n",
       "    </tr>\n",
       "    <tr>\n",
       "      <th>unique</th>\n",
       "      <td>2</td>\n",
       "    </tr>\n",
       "    <tr>\n",
       "      <th>top</th>\n",
       "      <td>cachexic</td>\n",
       "    </tr>\n",
       "    <tr>\n",
       "      <th>freq</th>\n",
       "      <td>47</td>\n",
       "    </tr>\n",
       "  </tbody>\n",
       "</table>\n",
       "</div>"
      ],
      "text/plain": [
       "       Muscle.loss\n",
       "count           77\n",
       "unique           2\n",
       "top       cachexic\n",
       "freq            47"
      ]
     },
     "execution_count": 7,
     "metadata": {},
     "output_type": "execute_result"
    }
   ],
   "source": [
    "meta.describe()"
   ]
  },
  {
   "cell_type": "markdown",
   "metadata": {},
   "source": [
    "**Ex. 1) Calcule a frequência de cada categoria nos metadados**"
   ]
  },
  {
   "cell_type": "code",
   "execution_count": 9,
   "metadata": {},
   "outputs": [
    {
     "data": {
      "text/plain": [
       "cachexic    47\n",
       "control     30\n",
       "Name: Muscle.loss, dtype: int64"
      ]
     },
     "execution_count": 9,
     "metadata": {},
     "output_type": "execute_result"
    }
   ],
   "source": [
    "meta[\"Muscle.loss\"].value_counts()"
   ]
  },
  {
   "cell_type": "markdown",
   "metadata": {},
   "source": [
    "**Ex.2) Verifique que não há valores em falta nos dados.**"
   ]
  },
  {
   "cell_type": "code",
   "execution_count": 12,
   "metadata": {},
   "outputs": [
    {
     "data": {
      "text/plain": [
       "0"
      ]
     },
     "execution_count": 12,
     "metadata": {},
     "output_type": "execute_result"
    }
   ],
   "source": [
    "data.isna().sum().sum()"
   ]
  },
  {
   "cell_type": "markdown",
   "metadata": {},
   "source": [
    "Para cada coluna apresentar o intervalo de valores"
   ]
  },
  {
   "cell_type": "code",
   "execution_count": 14,
   "metadata": {},
   "outputs": [
    {
     "data": {
      "text/plain": [
       "1.6-Anhydro-beta-D-glucose       4.71 --- 685.4\n",
       "1-Methylnicotinamide           6.42 --- 1032.77\n",
       "2-Aminobutyrate                 1.28 --- 172.43\n",
       "2-Hydroxyisobutyrate             4.85 --- 93.69\n",
       "2-Oxoglutarate                 5.53 --- 2465.13\n",
       "                                    ...        \n",
       "cis-Aconitate                 12.94 --- 1863.11\n",
       "myo-Inositol                   11.59 --- 854.06\n",
       "trans-Aconitate                  4.9 --- 217.02\n",
       "pi-Methylhistidine            11.36 --- 2697.28\n",
       "tau-Methylhistidine              8.0 --- 317.35\n",
       "Length: 63, dtype: object"
      ]
     },
     "execution_count": 14,
     "metadata": {},
     "output_type": "execute_result"
    }
   ],
   "source": [
    "data.apply(lambda x: str(x.min())+\" --- \"+str(x.max()))"
   ]
  },
  {
   "cell_type": "markdown",
   "metadata": {},
   "source": [
    "Criar um gráfico que permita visualizar os valores dos metabolitos \"Alanine\", \"Citrate\" e \"Creatinine\" para os pacientes de control. "
   ]
  },
  {
   "cell_type": "code",
   "execution_count": 15,
   "metadata": {},
   "outputs": [
    {
     "data": {
      "text/plain": [
       "<AxesSubplot: xlabel='Patient ID'>"
      ]
     },
     "execution_count": 15,
     "metadata": {},
     "output_type": "execute_result"
    },
    {
     "data": {
      "image/png": "[encoded data removed]",
      "text/plain": [
       "<Figure size 640x480 with 1 Axes>"
      ]
     },
     "metadata": {},
     "output_type": "display_data"
    }
   ],
   "source": [
    "data_control = data[meta[\"Muscle.loss\"]==\"control\"]\n",
    "data_control.iloc[:,[13,17,19]].plot.bar()"
   ]
  },
  {
   "cell_type": "markdown",
   "metadata": {},
   "source": [
    "**Ex.3) Exemplo de discretização de dados - altere os dados do metabolito Citrate de valor continuo para discretos: \n",
    "    \"elevado\", \"baixo\" consoante o valor seja: maior ou menor que a média.**"
   ]
  },
  {
   "cell_type": "code",
   "execution_count": 16,
   "metadata": {},
   "outputs": [
    {
     "data": {
      "text/plain": [
       "Patient ID\n",
       "PIF_178         elevado\n",
       "PIF_087         elevado\n",
       "PIF_090           baixo\n",
       "NETL_005_V1     elevado\n",
       "PIF_115           baixo\n",
       "                 ...   \n",
       "NETCR_019_V2    elevado\n",
       "NETL_012_V1       baixo\n",
       "NETL_012_V2       baixo\n",
       "NETL_003_V1       baixo\n",
       "NETL_003_V2       baixo\n",
       "Name: Citrate, Length: 77, dtype: category\n",
       "Categories (2, object): ['baixo' < 'elevado']"
      ]
     },
     "execution_count": 16,
     "metadata": {},
     "output_type": "execute_result"
    }
   ],
   "source": [
    "pd.cut(data[\"Citrate\"],\n",
    "       bins=[0, data[\"Citrate\"].mean(), 10000000],\n",
    "       labels=[\"baixo\", \"elevado\"])"
   ]
  },
  {
   "cell_type": "markdown",
   "metadata": {},
   "source": [
    "Standardização dos dados (usando scikit-learn)"
   ]
  },
  {
   "cell_type": "code",
   "execution_count": 22,
   "metadata": {},
   "outputs": [
    {
     "data": {
      "text/plain": [
       "<AxesSubplot: xlabel='Patient ID'>"
      ]
     },
     "execution_count": 22,
     "metadata": {},
     "output_type": "execute_result"
    },
    {
     "data": {
      "image/png": "[encoded data removed]",
      "text/plain": [
       "<Figure size 640x480 with 1 Axes>"
      ]
     },
     "metadata": {},
     "output_type": "display_data"
    }
   ],
   "source": [
    "from sklearn import preprocessing\n",
    "array_data = preprocessing.scale(data)#, with_mean = False)\n",
    "data_scale =  pd.DataFrame(array_data, index =data.index , columns = data.columns)\n",
    "data_control = data_scale[meta[\"Muscle.loss\"]==\"control\"]\n",
    "data_control.iloc[:,[13,17,19]].plot.bar()"
   ]
  },
  {
   "cell_type": "markdown",
   "metadata": {},
   "source": [
    "**Ex. 4) Cria um boxplot para ver a distribuição dos valores dos metabolitos Asparagine, Acetate, Succinate.**"
   ]
  },
  {
   "cell_type": "code",
   "execution_count": 36,
   "metadata": {},
   "outputs": [
    {
     "data": {
      "image/png": "[encoded data removed]",
      "text/plain": [
       "<Figure size 640x480 with 1 Axes>"
      ]
     },
     "metadata": {},
     "output_type": "display_data"
    }
   ],
   "source": [
    "plt.boxplot([data[\"Asparagine\"], data[\"Acetate\"], data[\"Succinate\"]], \n",
    "            labels=[\"Aspargine\", \"Acetate\", \"Succinate\"],\n",
    "            );\n",
    "plt.title(\"Boxplot for Aspargine, Acetate and Succinate\");"
   ]
  },
  {
   "cell_type": "markdown",
   "metadata": {},
   "source": [
    "Transformação logarítmica"
   ]
  },
  {
   "cell_type": "code",
   "execution_count": 27,
   "metadata": {},
   "outputs": [
    {
     "data": {
      "text/plain": [
       "1.6-Anhydro-beta-D-glucose     2.2357270598380583---9.420802381631812\n",
       "1-Methylnicotinamide           2.682573297347578---10.012303283487379\n",
       "2-Aminobutyrate               0.35614381022527536---7.429866991382293\n",
       "2-Hydroxyisobutyrate           2.277984747299765---6.5498231649670045\n",
       "2-Oxoglutarate                 2.4672794804599825---11.26744801459588\n",
       "                                               ...                   \n",
       "cis-Aconitate                  3.693765712217783---10.863497139709002\n",
       "myo-Inositol                    3.534808661231747---9.738193616367314\n",
       "trans-Aconitate                 2.292781749227846---7.761684193602206\n",
       "pi-Methylhistidine            3.5058909297299574---11.397289577701605\n",
       "tau-Methylhistidine                           3.0---8.309931032395417\n",
       "Length: 63, dtype: object"
      ]
     },
     "execution_count": 27,
     "metadata": {},
     "output_type": "execute_result"
    }
   ],
   "source": [
    "log_data = np.log2(data)\n",
    "log_data.apply(lambda x: str(x.min())+\"---\"+str( x.max()))"
   ]
  },
  {
   "cell_type": "code",
   "execution_count": null,
   "metadata": {},
   "outputs": [],
   "source": [
    "sel_log_data = log_data.iloc[:,indexes].values\n",
    "\n",
    "plt.boxplot(sel_log_data)\n",
    "plt.xticks([1,2,3],labels)\n",
    "plt.title(\" Boxplot\")\n",
    "plt.show()"
   ]
  },
  {
   "cell_type": "markdown",
   "metadata": {},
   "source": [
    "### Exemplos com testes estatísticos\n"
   ]
  },
  {
   "cell_type": "markdown",
   "metadata": {},
   "source": [
    "**Ex. 5) Verifica se a distribuição do metabolito Alanine segue a distribuição normal quer de forma visual (QQplot), quer usando o teste de Shapiro.**"
   ]
  },
  {
   "cell_type": "code",
   "execution_count": 30,
   "metadata": {},
   "outputs": [],
   "source": [
    "import statsmodels.api as sm\n",
    "from scipy import stats"
   ]
  },
  {
   "cell_type": "code",
   "execution_count": 31,
   "metadata": {},
   "outputs": [
    {
     "data": {
      "text/plain": [
       "(array([31., 15., 13.,  9.,  5.,  0.,  1.,  1.,  1.,  1.]),\n",
       " array([  16.78 ,  146.393,  276.006,  405.619,  535.232,  664.845,\n",
       "         794.458,  924.071, 1053.684, 1183.297, 1312.91 ]),\n",
       " <BarContainer object of 10 artists>)"
      ]
     },
     "execution_count": 31,
     "metadata": {},
     "output_type": "execute_result"
    },
    {
     "data": {
      "image/png": "[encoded data removed]",
      "text/plain": [
       "<Figure size 640x480 with 1 Axes>"
      ]
     },
     "metadata": {},
     "output_type": "display_data"
    }
   ],
   "source": [
    "plt.close()\n",
    "data_alanine = data.Alanine\n",
    "plt.hist(data_alanine)"
   ]
  },
  {
   "cell_type": "code",
   "execution_count": 39,
   "metadata": {},
   "outputs": [
    {
     "data": {
      "image/png": "[encoded data removed]",
      "text/plain": [
       "<Figure size 640x480 with 1 Axes>"
      ]
     },
     "metadata": {},
     "output_type": "display_data"
    }
   ],
   "source": [
    "sm.qqplot(data[\"Alanine\"], line=\"45\");"
   ]
  },
  {
   "cell_type": "code",
   "execution_count": 34,
   "metadata": {},
   "outputs": [
    {
     "data": {
      "text/plain": [
       "ShapiroResult(statistic=0.8279606699943542, pvalue=4.927390762077266e-08)"
      ]
     },
     "execution_count": 34,
     "metadata": {},
     "output_type": "execute_result"
    }
   ],
   "source": [
    "stats.shapiro(data[\"Alanine\"])\n"
   ]
  },
  {
   "cell_type": "markdown",
   "metadata": {},
   "source": [
    "**Ex. 6) Verifica se a concentração de Alanina entre as duas categorias é semelhante, visualmente (usando histogramas) e usando testes estatísticos apropriados.**"
   ]
  },
  {
   "cell_type": "code",
   "execution_count": 45,
   "metadata": {},
   "outputs": [
    {
     "data": {
      "image/png": "[encoded data removed]",
      "text/plain": [
       "<Figure size 640x480 with 1 Axes>"
      ]
     },
     "metadata": {},
     "output_type": "display_data"
    }
   ],
   "source": [
    "g1 = data[\"Alanine\"]\n",
    "g1 = g1[meta[\"Muscle.loss\"] == \"control\"]\n",
    "\n",
    "g2 = data[\"Alanine\"]\n",
    "g2 = g2[meta[\"Muscle.loss\"] == \"cachexic\"]\n",
    "\n",
    "plt.boxplot([g1, g2],\n",
    "            labels=[\"Alanine Control\", \"Alanine Cachexic\"]);\n",
    "plt.title(\"Comparison between control and cachexic concentrations of Alanine\");\n"
   ]
  },
  {
   "cell_type": "code",
   "execution_count": null,
   "metadata": {},
   "outputs": [],
   "source": [
    "# n tem distribuição normal, usar n parametrico para valores n logaritmicos\n",
    "# ttest para a variavel com alteração logaritmica"
   ]
  },
  {
   "cell_type": "markdown",
   "metadata": {},
   "source": [
    "Quais os metabolitos que têm concentrações significativamente diferentes entre os dois grupos: control e cachexic. "
   ]
  },
  {
   "cell_type": "code",
   "execution_count": null,
   "metadata": {},
   "outputs": [],
   "source": [
    "type(data[meta['Muscle.loss']=='control'])"
   ]
  },
  {
   "cell_type": "code",
   "execution_count": null,
   "metadata": {},
   "outputs": [],
   "source": [
    "metabs_de_tt = lambda x : stats.ttest_ind(x[meta['Muscle.loss']=='control'],x[meta['Muscle.loss']=='cachexic'])\n",
    "\n",
    "data.columns[data.apply(lambda x: metabs_de_tt(x)[1]<0.05)]"
   ]
  },
  {
   "cell_type": "markdown",
   "metadata": {},
   "source": [
    "**Ex.7) Repita o anterior usando Testes não paramétricos - Mann-Whitney U test**"
   ]
  },
  {
   "cell_type": "code",
   "execution_count": null,
   "metadata": {},
   "outputs": [],
   "source": []
  },
  {
   "cell_type": "markdown",
   "metadata": {},
   "source": [
    "Correções para testes múltiplos"
   ]
  },
  {
   "cell_type": "code",
   "execution_count": null,
   "metadata": {},
   "outputs": [],
   "source": [
    "pvalues_tt = data.apply(lambda x: metabs_de_tt(x)[1])\n",
    "pvalues_tt\n",
    "type(pvalues_tt)"
   ]
  },
  {
   "cell_type": "code",
   "execution_count": null,
   "metadata": {},
   "outputs": [],
   "source": [
    "import statsmodels.stats as sm\n",
    "corr_pvalues = sm.multitest.multipletests(pvalues_tt, method = \"fdr_bh\")[1]\n",
    "corr_pvalues"
   ]
  },
  {
   "cell_type": "markdown",
   "metadata": {},
   "source": [
    "### Correlações"
   ]
  },
  {
   "cell_type": "code",
   "execution_count": null,
   "metadata": {},
   "outputs": [],
   "source": [
    "data_glucose = data.Glucose\n",
    "data_sucrose = data.Sucrose\n",
    "\n",
    "plt.scatter(data_glucose, data_sucrose)\n",
    "plt.show()"
   ]
  },
  {
   "cell_type": "code",
   "execution_count": null,
   "metadata": {},
   "outputs": [],
   "source": [
    "corr, _ = stats.pearsonr(data_glucose, data_sucrose)\n",
    "corr"
   ]
  },
  {
   "cell_type": "code",
   "execution_count": null,
   "metadata": {},
   "outputs": [],
   "source": [
    "sp_corr, _ = stats.spearmanr(data_glucose, data_sucrose)\n",
    "sp_corr"
   ]
  },
  {
   "cell_type": "code",
   "execution_count": null,
   "metadata": {},
   "outputs": [],
   "source": [
    "corr_matrix = data.corr()\n",
    "corr_matrix"
   ]
  },
  {
   "cell_type": "code",
   "execution_count": null,
   "metadata": {},
   "outputs": [],
   "source": [
    "type(corr_matrix)"
   ]
  },
  {
   "cell_type": "code",
   "execution_count": null,
   "metadata": {},
   "outputs": [],
   "source": [
    "corr_matrix_sp = data.corr(method = \"spearman\")\n",
    "corr_matrix_sp"
   ]
  },
  {
   "cell_type": "code",
   "execution_count": null,
   "metadata": {},
   "outputs": [],
   "source": [
    "import seaborn as sn\n",
    "sn.heatmap(corr_matrix.iloc[1:10,1:10], annot=True)\n",
    "plt.show()"
   ]
  },
  {
   "cell_type": "code",
   "execution_count": null,
   "metadata": {},
   "outputs": [],
   "source": [
    "sn.heatmap(corr_matrix.iloc[1:20,1:20], annot=False)\n",
    "plt.show()"
   ]
  },
  {
   "cell_type": "markdown",
   "metadata": {},
   "source": [
    "Análise de variância / regressão linear"
   ]
  },
  {
   "cell_type": "code",
   "execution_count": null,
   "metadata": {},
   "outputs": [],
   "source": [
    "from statsmodels.formula.api import ols\n",
    "from statsmodels.stats.anova import anova_lm\n",
    "\n",
    "lm = ols(\"data.Leucine~data.Valine\", data).fit() # leucina em função da valina\n",
    "anova_lm(lm)"
   ]
  },
  {
   "cell_type": "code",
   "execution_count": null,
   "metadata": {},
   "outputs": [],
   "source": [
    "lm.summary()"
   ]
  },
  {
   "cell_type": "code",
   "execution_count": null,
   "metadata": {},
   "outputs": [],
   "source": [
    "lm.rsquared"
   ]
  },
  {
   "cell_type": "markdown",
   "metadata": {},
   "source": [
    "**Ex.8) Repita o anterior adicionando a Glucose como variável dependente**"
   ]
  },
  {
   "cell_type": "code",
   "execution_count": null,
   "metadata": {},
   "outputs": [],
   "source": [
    "# adicionar leucina em função da valina e da glucose"
   ]
  },
  {
   "cell_type": "code",
   "execution_count": null,
   "metadata": {},
   "outputs": [],
   "source": []
  },
  {
   "cell_type": "code",
   "execution_count": null,
   "metadata": {},
   "outputs": [],
   "source": [
    "data[\"MuscleLoss\"] = meta[\"Muscle.loss\"]"
   ]
  },
  {
   "cell_type": "code",
   "execution_count": null,
   "metadata": {},
   "outputs": [],
   "source": [
    "lm3 = ols(\"data.Leucine~data.MuscleLoss\", data).fit()"
   ]
  },
  {
   "cell_type": "code",
   "execution_count": null,
   "metadata": {},
   "outputs": [],
   "source": [
    "lm3.summary()"
   ]
  }
 ],
 "metadata": {
  "anaconda-cloud": {},
  "kernelspec": {
   "display_name": "Python 3.10.4 64-bit",
   "language": "python",
   "name": "python3"
  },
  "language_info": {
   "codemirror_mode": {
    "name": "ipython",
    "version": 3
   },
   "file_extension": ".py",
   "mimetype": "text/x-python",
   "name": "python",
   "nbconvert_exporter": "python",
   "pygments_lexer": "ipython3",
   "version": "3.10.4"
  },
  "vscode": {
   "interpreter": {
    "hash": "916dbcbb3f70747c44a77c7bcd40155683ae19c65e1c03b4aa3499c5328201f1"
   }
  }
 },
 "nbformat": 4,
 "nbformat_minor": 1
}
