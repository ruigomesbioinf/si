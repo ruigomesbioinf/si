{
 "cells": [
  {
   "cell_type": "markdown",
   "metadata": {},
   "source": [
    "# Ficha de trabalho 4\n",
    "\n",
    "1- Considera o dataset cachexia. Lê os dados usando a função read_csv do pandas (dados e metadados)."
   ]
  },
  {
   "cell_type": "code",
   "execution_count": 2,
   "metadata": {},
   "outputs": [
    {
     "name": "stdout",
     "output_type": "stream",
     "text": [
      "(77, 63)\n",
      "(77, 1)\n"
     ]
    }
   ],
   "source": [
    "import pandas as pd\n",
    "\n",
    "data = pd.read_csv(\"data_cachexia.csv\", index_col=0)\n",
    "meta = pd.read_csv(\"meta_cachexia.csv\", index_col=0)\n",
    "print(data.shape)\n",
    "print(meta.shape)"
   ]
  },
  {
   "cell_type": "markdown",
   "metadata": {},
   "source": [
    "2 -Aplica a transformação necessária para que os dados seja escalonados para ter média 0 e desvio padrão 1. Verifica que as médias de todas as colunas é aproximadamente zero."
   ]
  },
  {
   "cell_type": "code",
   "execution_count": 3,
   "metadata": {},
   "outputs": [
    {
     "name": "stdout",
     "output_type": "stream",
     "text": [
      "Data mean: -1.8675365658506033e-17\n",
      "Standard deviation:  1.0\n"
     ]
    }
   ],
   "source": [
    "from sklearn import preprocessing\n",
    "\n",
    "data_scaled = preprocessing.scale(data.loc[:, data.columns != \"Patient ID\"])\n",
    "data_scaled\n",
    "\n",
    "print(\"Data mean:\", data_scaled.mean())\n",
    "print(\"Standard deviation: \", data_scaled.std())"
   ]
  },
  {
   "cell_type": "markdown",
   "metadata": {},
   "source": [
    "3 - Cria dois conjuntos de dados treino e teste para serem usados na criação e validação de modelos de aprendizagem máquina. Considera 30% das amostras para formar o conjunto de teste. "
   ]
  },
  {
   "cell_type": "code",
   "execution_count": 4,
   "metadata": {},
   "outputs": [],
   "source": [
    "import numpy as np\n",
    "\n",
    "\n",
    "input_data = data.values\n",
    "output_data = meta.values[:, 0]\n",
    "\n",
    "number_samples = int(data_scaled.shape[0] * 0.3)\n",
    "\n",
    "indexes = np.random.permutation(len(input_data))\n",
    "\n",
    "train_input = data_scaled[indexes[:-number_samples]]\n",
    "train_output = output_data[indexes[:-number_samples]]\n",
    "\n",
    "test_input = data_scaled[indexes[-number_samples:]]\n",
    "test_output = output_data[indexes[-number_samples:]]\n",
    "\n"
   ]
  },
  {
   "cell_type": "markdown",
   "metadata": {},
   "source": [
    "4 - Constroi diversos tipos de modelos de classificação treinando e testando com os conjuntos criados anteriormente. Calcula, para cada um dos modelos no test set, as métricas de erro PECC e F1-score, e calcula a matriz de confusão. Considere como classe positiva a classe \"cachexic\""
   ]
  },
  {
   "cell_type": "code",
   "execution_count": 5,
   "metadata": {},
   "outputs": [],
   "source": [
    "# function to calculate the PECC error\n",
    "\n",
    "def pecc_error (predicted, real):\n",
    "    return sum([(predicted[i] == real[i]) for i in range(len(predicted))]) / len(predicted)\n",
    "\n",
    "# f1 score import\n",
    "from sklearn.metrics import f1_score"
   ]
  },
  {
   "cell_type": "code",
   "execution_count": 11,
   "metadata": {},
   "outputs": [
    {
     "name": "stdout",
     "output_type": "stream",
     "text": [
      "Score:  0.5652173913043478\n",
      "PECC error:  0.5652173913043478\n",
      "f1-score:  0.5436507936507937\n",
      "\n",
      " Predicted values \n",
      " ['control' 'control' 'control' 'cachexic' 'control' 'cachexic' 'cachexic'\n",
      " 'control' 'control' 'cachexic' 'cachexic' 'cachexic' 'control' 'cachexic'\n",
      " 'control' 'cachexic' 'control' 'cachexic' 'cachexic' 'cachexic'\n",
      " 'cachexic' 'cachexic' 'cachexic'] \n",
      " Real values \n",
      " ['control' 'control' 'cachexic' 'control' 'cachexic' 'cachexic' 'cachexic'\n",
      " 'cachexic' 'control' 'cachexic' 'cachexic' 'control' 'cachexic' 'control'\n",
      " 'control' 'cachexic' 'cachexic' 'cachexic' 'cachexic' 'control'\n",
      " 'cachexic' 'cachexic' 'control']\n"
     ]
    }
   ],
   "source": [
    "# KNNClassifier model\n",
    "\n",
    "from sklearn.neighbors import KNeighborsClassifier\n",
    "\n",
    "knn_model = KNeighborsClassifier()\n",
    "knn_model.fit(train_input, train_output)\n",
    "knn_predict = knn_model.predict(test_input)\n",
    "\n",
    "print(\"Score: \", knn_model.score(test_input, test_output))\n",
    "print(\"PECC error: \", pecc_error(knn_predict, test_output))\n",
    "print(\"f1-score: \", f1_score(test_output, knn_predict, average=\"macro\"))\n",
    "print(\"\\n\", \"Predicted values \\n\", knn_predict, \"\\n\", \"Real values \\n\",  test_output)"
   ]
  },
  {
   "cell_type": "code",
   "execution_count": 10,
   "metadata": {},
   "outputs": [
    {
     "name": "stdout",
     "output_type": "stream",
     "text": [
      "Score:  0.5217391304347826\n",
      "PECC error:  0.5217391304347826\n",
      "f1-score:  0.5180952380952382\n",
      "\n",
      " Predicted values \n",
      " ['control' 'control' 'control' 'cachexic' 'cachexic' 'cachexic' 'cachexic'\n",
      " 'control' 'control' 'cachexic' 'control' 'cachexic' 'control' 'control'\n",
      " 'control' 'control' 'control' 'cachexic' 'cachexic' 'cachexic' 'cachexic'\n",
      " 'control' 'cachexic'] \n",
      " Real values \n",
      " ['control' 'control' 'cachexic' 'control' 'cachexic' 'cachexic' 'cachexic'\n",
      " 'cachexic' 'control' 'cachexic' 'cachexic' 'control' 'cachexic' 'control'\n",
      " 'control' 'cachexic' 'cachexic' 'cachexic' 'cachexic' 'control'\n",
      " 'cachexic' 'cachexic' 'control']\n"
     ]
    }
   ],
   "source": [
    "# Naive bayes model\n",
    "\n",
    "from sklearn.naive_bayes import GaussianNB\n",
    "\n",
    "gnb_model = GaussianNB()\n",
    "gnb_model.fit(train_input, train_output)\n",
    "gnb_predict = gnb_model.predict(test_input)\n",
    "\n",
    "print(\"Score: \", gnb_model.score(test_input, test_output))\n",
    "print(\"PECC error: \", pecc_error(gnb_predict, test_output))\n",
    "print(\"f1-score: \", f1_score(test_output, gnb_predict, average=\"macro\"))\n",
    "print(\"\\n\", \"Predicted values \\n\", gnb_predict, \"\\n\", \"Real values \\n\", test_output)"
   ]
  },
  {
   "cell_type": "code",
   "execution_count": 12,
   "metadata": {},
   "outputs": [
    {
     "name": "stdout",
     "output_type": "stream",
     "text": [
      "Score:  0.6956521739130435\n",
      "PECC error:  0.6956521739130435\n",
      "f1_score:  0.6537634408602151\n",
      "\n",
      " Predicted values \n",
      " ['control' 'control' 'cachexic' 'cachexic' 'cachexic' 'cachexic'\n",
      " 'cachexic' 'control' 'control' 'cachexic' 'cachexic' 'cachexic'\n",
      " 'cachexic' 'control' 'cachexic' 'cachexic' 'cachexic' 'cachexic'\n",
      " 'cachexic' 'cachexic' 'cachexic' 'control' 'cachexic'] \n",
      " Real values \n",
      " ['control' 'control' 'cachexic' 'control' 'cachexic' 'cachexic' 'cachexic'\n",
      " 'cachexic' 'control' 'cachexic' 'cachexic' 'control' 'cachexic' 'control'\n",
      " 'control' 'cachexic' 'cachexic' 'cachexic' 'cachexic' 'control'\n",
      " 'cachexic' 'cachexic' 'control']\n"
     ]
    }
   ],
   "source": [
    "# Decision Tree model\n",
    "\n",
    "from sklearn.tree import DecisionTreeClassifier\n",
    "\n",
    "tree_model = DecisionTreeClassifier()\n",
    "tree_model.fit(train_input, train_output)\n",
    "tree_predict = tree_model.predict(test_input)\n",
    "\n",
    "print(\"Score: \", tree_model.score(test_input, test_output))\n",
    "print(\"PECC error: \", pecc_error(tree_predict, test_output))\n",
    "print(\"f1_score: \", f1_score(test_output, tree_predict, average=\"macro\"))\n",
    "print(\"\\n\", \"Predicted values \\n\", tree_predict, \"\\n\", \"Real values \\n\",  test_output)"
   ]
  },
  {
   "cell_type": "code",
   "execution_count": 9,
   "metadata": {},
   "outputs": [
    {
     "name": "stdout",
     "output_type": "stream",
     "text": [
      "KNN CONFUSION MATRIX \n",
      " [[9 5]\n",
      " [5 4]]\n",
      "NAIVE BAYES CONFUSION MATRIX \n",
      " [[7 7]\n",
      " [4 5]]\n",
      "DECISION TREE CONFUSION MATRIX \n",
      " [[10  4]\n",
      " [ 3  6]]\n"
     ]
    }
   ],
   "source": [
    "# confusion matrixes\n",
    "from sklearn.metrics import confusion_matrix\n",
    "\n",
    "# rows represent true values (test_output)\n",
    "# columns represent predicted values\n",
    "print(\"KNN CONFUSION MATRIX \\n\", confusion_matrix(test_output, knn_predict))\n",
    "print(\"NAIVE BAYES CONFUSION MATRIX \\n\", confusion_matrix(test_output, gnb_predict))\n",
    "print(\"DECISION TREE CONFUSION MATRIX \\n\", confusion_matrix(test_output, tree_predict))"
   ]
  },
  {
   "cell_type": "markdown",
   "metadata": {},
   "source": [
    "5 - Usando apenas o melhor modelo do exercício anterior, compare o seu desempenho considerando dados com transformação logaritmica e posteriormente standardizados"
   ]
  },
  {
   "cell_type": "code",
   "execution_count": 14,
   "metadata": {},
   "outputs": [
    {
     "name": "stdout",
     "output_type": "stream",
     "text": [
      "Mean:  5.163189329116374e-17\n",
      "Standard deviation:  1.0\n"
     ]
    }
   ],
   "source": [
    "log_data = np.log2(data)\n",
    "\n",
    "log_input_data = log_data.values\n",
    "output_data = meta.values[:, 0]\n",
    "\n",
    "log_input_scaled = preprocessing.scale(log_input_data)\n",
    "\n",
    "print(\"Mean: \", log_input_scaled.mean())\n",
    "print(\"Standard deviation: \", log_input_scaled.std())"
   ]
  },
  {
   "cell_type": "code",
   "execution_count": 19,
   "metadata": {},
   "outputs": [
    {
     "data": {
      "text/plain": [
       "((54, 63), (54,), (23, 63), (23,))"
      ]
     },
     "execution_count": 19,
     "metadata": {},
     "output_type": "execute_result"
    }
   ],
   "source": [
    "number_samples = int(log_input_scaled.shape[0] * 0.3)\n",
    "\n",
    "indexes = np.random.permutation(len(log_input_scaled))\n",
    "\n",
    "log_train_input = log_input_scaled[indexes[:-number_samples]]\n",
    "log_train_output = output_data[indexes[:-number_samples]]\n",
    "\n",
    "log_test_input = log_input_scaled[indexes[-number_samples:]]\n",
    "log_test_output = output_data[indexes[-number_samples:]]\n",
    "\n",
    "log_train_input.shape, log_train_output.shape, log_test_input.shape, log_test_output.shape\n"
   ]
  },
  {
   "cell_type": "code",
   "execution_count": 21,
   "metadata": {},
   "outputs": [
    {
     "name": "stdout",
     "output_type": "stream",
     "text": [
      "\n",
      " Predicted values \n",
      " ['control' 'cachexic' 'cachexic' 'cachexic' 'control' 'cachexic'\n",
      " 'cachexic' 'control' 'control' 'cachexic' 'control' 'control' 'control'\n",
      " 'cachexic' 'cachexic' 'cachexic' 'cachexic' 'cachexic' 'control'\n",
      " 'cachexic' 'control' 'cachexic' 'cachexic'] \n",
      " Real values \n",
      " ['cachexic' 'control' 'cachexic' 'cachexic' 'cachexic' 'cachexic'\n",
      " 'cachexic' 'cachexic' 'cachexic' 'control' 'control' 'cachexic' 'control'\n",
      " 'control' 'control' 'cachexic' 'cachexic' 'cachexic' 'cachexic'\n",
      " 'cachexic' 'cachexic' 'cachexic' 'cachexic']\n",
      "Score:  0.5217391304347826\n"
     ]
    }
   ],
   "source": [
    "from sklearn.tree import DecisionTreeClassifier\n",
    "\n",
    "tree_log_model = DecisionTreeClassifier()\n",
    "tree_log_model.fit(log_train_input, log_train_output)\n",
    "tree_log_predict = tree_log_model.predict(log_test_input)\n",
    "\n",
    "print(\"\\n\", \"Predicted values \\n\", tree_log_predict, \"\\n\", \"Real values \\n\",  log_test_output)\n",
    "print(\"Score: \", tree_log_model.score(log_test_input, log_test_output))"
   ]
  },
  {
   "cell_type": "markdown",
   "metadata": {},
   "source": [
    "With a score of 0.52, considering that the best possible score is 1, our decision tree model is actually average for this problem"
   ]
  }
 ],
 "metadata": {
  "kernelspec": {
   "display_name": "Python 3.10.4 64-bit",
   "language": "python",
   "name": "python3"
  },
  "language_info": {
   "codemirror_mode": {
    "name": "ipython",
    "version": 3
   },
   "file_extension": ".py",
   "mimetype": "text/x-python",
   "name": "python",
   "nbconvert_exporter": "python",
   "pygments_lexer": "ipython3",
   "version": "3.10.4"
  },
  "vscode": {
   "interpreter": {
    "hash": "916dbcbb3f70747c44a77c7bcd40155683ae19c65e1c03b4aa3499c5328201f1"
   }
  }
 },
 "nbformat": 4,
 "nbformat_minor": 2
}
