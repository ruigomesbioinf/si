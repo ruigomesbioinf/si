{
 "cells": [
  {
   "cell_type": "markdown",
   "metadata": {},
   "source": [
    "## Classificação"
   ]
  },
  {
   "cell_type": "markdown",
   "metadata": {},
   "source": [
    "### Carregamento dos conjuntos de dados"
   ]
  },
  {
   "cell_type": "code",
   "execution_count": 1,
   "metadata": {},
   "outputs": [
    {
     "name": "stdout",
     "output_type": "stream",
     "text": [
      ".. _iris_dataset:\n",
      "\n",
      "Iris plants dataset\n",
      "--------------------\n",
      "\n",
      "**Data Set Characteristics:**\n",
      "\n",
      "    :Number of Instances: 150 (50 in each of three classes)\n",
      "    :Number of Attributes: 4 numeric, predictive attributes and the class\n",
      "    :Attribute Information:\n",
      "        - sepal length in cm\n",
      "        - sepal width in cm\n",
      "        - petal length in cm\n",
      "        - petal width in cm\n",
      "        - class:\n",
      "                - Iris-Setosa\n",
      "                - Iris-Versicolour\n",
      "                - Iris-Virginica\n",
      "                \n",
      "    :Summary Statistics:\n",
      "\n",
      "    ============== ==== ==== ======= ===== ====================\n",
      "                    Min  Max   Mean    SD   Class Correlation\n",
      "    ============== ==== ==== ======= ===== ====================\n",
      "    sepal length:   4.3  7.9   5.84   0.83    0.7826\n",
      "    sepal width:    2.0  4.4   3.05   0.43   -0.4194\n",
      "    petal length:   1.0  6.9   3.76   1.76    0.9490  (high!)\n",
      "    petal width:    0.1  2.5   1.20   0.76    0.9565  (high!)\n",
      "    ============== ==== ==== ======= ===== ====================\n",
      "\n",
      "    :Missing Attribute Values: None\n",
      "    :Class Distribution: 33.3% for each of 3 classes.\n",
      "    :Creator: R.A. Fisher\n",
      "    :Donor: Michael Marshall (MARSHALL%PLU@io.arc.nasa.gov)\n",
      "    :Date: July, 1988\n",
      "\n",
      "The famous Iris database, first used by Sir R.A. Fisher. The dataset is taken\n",
      "from Fisher's paper. Note that it's the same as in R, but not as in the UCI\n",
      "Machine Learning Repository, which has two wrong data points.\n",
      "\n",
      "This is perhaps the best known database to be found in the\n",
      "pattern recognition literature.  Fisher's paper is a classic in the field and\n",
      "is referenced frequently to this day.  (See Duda & Hart, for example.)  The\n",
      "data set contains 3 classes of 50 instances each, where each class refers to a\n",
      "type of iris plant.  One class is linearly separable from the other 2; the\n",
      "latter are NOT linearly separable from each other.\n",
      "\n",
      ".. topic:: References\n",
      "\n",
      "   - Fisher, R.A. \"The use of multiple measurements in taxonomic problems\"\n",
      "     Annual Eugenics, 7, Part II, 179-188 (1936); also in \"Contributions to\n",
      "     Mathematical Statistics\" (John Wiley, NY, 1950).\n",
      "   - Duda, R.O., & Hart, P.E. (1973) Pattern Classification and Scene Analysis.\n",
      "     (Q327.D83) John Wiley & Sons.  ISBN 0-471-22361-1.  See page 218.\n",
      "   - Dasarathy, B.V. (1980) \"Nosing Around the Neighborhood: A New System\n",
      "     Structure and Classification Rule for Recognition in Partially Exposed\n",
      "     Environments\".  IEEE Transactions on Pattern Analysis and Machine\n",
      "     Intelligence, Vol. PAMI-2, No. 1, 67-71.\n",
      "   - Gates, G.W. (1972) \"The Reduced Nearest Neighbor Rule\".  IEEE Transactions\n",
      "     on Information Theory, May 1972, 431-433.\n",
      "   - See also: 1988 MLC Proceedings, 54-64.  Cheeseman et al\"s AUTOCLASS II\n",
      "     conceptual clustering system finds 3 classes in the data.\n",
      "   - Many, many more ...\n",
      "(150, 4)\n",
      "[0 1 2]\n"
     ]
    }
   ],
   "source": [
    "from sklearn import datasets\n",
    "import numpy as np\n",
    "\n",
    "iris = datasets.load_iris()\n",
    "print (iris.DESCR)\n",
    "print(iris.data.shape)\n",
    "print(np.unique(iris.target))\n"
   ]
  },
  {
   "cell_type": "code",
   "execution_count": 2,
   "metadata": {},
   "outputs": [
    {
     "name": "stdout",
     "output_type": "stream",
     "text": [
      ".. _digits_dataset:\n",
      "\n",
      "Optical recognition of handwritten digits dataset\n",
      "--------------------------------------------------\n",
      "\n",
      "**Data Set Characteristics:**\n",
      "\n",
      "    :Number of Instances: 1797\n",
      "    :Number of Attributes: 64\n",
      "    :Attribute Information: 8x8 image of integer pixels in the range 0..16.\n",
      "    :Missing Attribute Values: None\n",
      "    :Creator: E. Alpaydin (alpaydin '@' boun.edu.tr)\n",
      "    :Date: July; 1998\n",
      "\n",
      "This is a copy of the test set of the UCI ML hand-written digits datasets\n",
      "https://archive.ics.uci.edu/ml/datasets/Optical+Recognition+of+Handwritten+Digits\n",
      "\n",
      "The data set contains images of hand-written digits: 10 classes where\n",
      "each class refers to a digit.\n",
      "\n",
      "Preprocessing programs made available by NIST were used to extract\n",
      "normalized bitmaps of handwritten digits from a preprinted form. From a\n",
      "total of 43 people, 30 contributed to the training set and different 13\n",
      "to the test set. 32x32 bitmaps are divided into nonoverlapping blocks of\n",
      "4x4 and the number of on pixels are counted in each block. This generates\n",
      "an input matrix of 8x8 where each element is an integer in the range\n",
      "0..16. This reduces dimensionality and gives invariance to small\n",
      "distortions.\n",
      "\n",
      "For info on NIST preprocessing routines, see M. D. Garris, J. L. Blue, G.\n",
      "T. Candela, D. L. Dimmick, J. Geist, P. J. Grother, S. A. Janet, and C.\n",
      "L. Wilson, NIST Form-Based Handprint Recognition System, NISTIR 5469,\n",
      "1994.\n",
      "\n",
      ".. topic:: References\n",
      "\n",
      "  - C. Kaynak (1995) Methods of Combining Multiple Classifiers and Their\n",
      "    Applications to Handwritten Digit Recognition, MSc Thesis, Institute of\n",
      "    Graduate Studies in Science and Engineering, Bogazici University.\n",
      "  - E. Alpaydin, C. Kaynak (1998) Cascading Classifiers, Kybernetika.\n",
      "  - Ken Tang and Ponnuthurai N. Suganthan and Xi Yao and A. Kai Qin.\n",
      "    Linear dimensionalityreduction using relevance weighted LDA. School of\n",
      "    Electrical and Electronic Engineering Nanyang Technological University.\n",
      "    2005.\n",
      "  - Claudio Gentile. A New Approximate Maximal Margin Classification\n",
      "    Algorithm. NIPS. 2000.\n",
      "\n",
      "(1797, 64)\n"
     ]
    },
    {
     "data": {
      "image/png": "[encoded data removed]",
      "text/plain": [
       "<Figure size 216x216 with 1 Axes>"
      ]
     },
     "metadata": {
      "needs_background": "light"
     },
     "output_type": "display_data"
    },
    {
     "name": "stdout",
     "output_type": "stream",
     "text": [
      "0\n"
     ]
    }
   ],
   "source": [
    "from sklearn import datasets\n",
    "%matplotlib inline\n",
    "\n",
    "digits = datasets.load_digits()\n",
    "print (digits.DESCR)\n",
    "print(digits.data.shape)\n",
    "\n",
    "import matplotlib.pyplot as plt\n",
    "\n",
    "plt.figure(1, figsize=(3, 3))\n",
    "plt.imshow(digits.images[0], cmap=plt.cm.gray_r,\n",
    " interpolation='nearest')\n",
    "plt.show()\n",
    "print(digits.target[0])\n"
   ]
  },
  {
   "cell_type": "markdown",
   "metadata": {},
   "source": [
    "### Exemplos com o dataset iris - treino do modelo e predição de valores para novos exemplos"
   ]
  },
  {
   "cell_type": "code",
   "execution_count": 3,
   "metadata": {},
   "outputs": [
    {
     "name": "stdout",
     "output_type": "stream",
     "text": [
      "KNeighborsClassifier(n_neighbors=3)\n",
      "Valores previstos: [2 2 1 2 1 1 1 0 0 1]\n",
      "Valores reais:  [2 2 1 2 1 1 1 0 0 1]\n"
     ]
    }
   ],
   "source": [
    "indices = np.random.permutation(len(iris.data))\n",
    "train_in = iris.data[indices[:-10]]\n",
    "train_out = iris.target[indices[:-10]]\n",
    "test_in = iris.data[indices[-10:]]\n",
    "test_out = iris.target[indices[-10:]]\n",
    "\n",
    "from sklearn.neighbors import KNeighborsClassifier\n",
    "\n",
    "knn = KNeighborsClassifier(n_neighbors = 3)\n",
    "print(knn.fit(train_in, train_out))\n",
    "print(\"Valores previstos:\" , knn.predict(test_in))\n",
    "print(\"Valores reais: \" , test_out)\n"
   ]
  },
  {
   "cell_type": "code",
   "execution_count": 4,
   "metadata": {},
   "outputs": [
    {
     "name": "stdout",
     "output_type": "stream",
     "text": [
      "DecisionTreeClassifier()\n",
      "[2 1 1 2 1 1 1 0 0 1]\n",
      "Valores previstos:  [2 1 1 2 1 1 1 0 0 1]\n",
      "Valores reais:  [2 2 1 2 1 1 1 0 0 1]\n"
     ]
    }
   ],
   "source": [
    "from sklearn import tree\n",
    "\n",
    "tree_model = tree.DecisionTreeClassifier()\n",
    "tree_model = tree_model.fit(train_in, train_out)\n",
    "print(tree_model)\n",
    "print(tree_model.predict(test_in))\n",
    "\n",
    "print(\"Valores previstos: \", tree_model.predict(test_in))\n",
    "print(\"Valores reais: \", test_out)\n"
   ]
  },
  {
   "cell_type": "code",
   "execution_count": 5,
   "metadata": {},
   "outputs": [
    {
     "name": "stdout",
     "output_type": "stream",
     "text": [
      "GaussianNB()\n",
      "Valores previstos:  [2 2 1 2 1 1 1 0 0 1]\n",
      "Valores reais:  [2 2 1 2 1 1 1 0 0 1]\n"
     ]
    }
   ],
   "source": [
    "from sklearn.naive_bayes import GaussianNB\n",
    "\n",
    "gnb_model = GaussianNB()\n",
    "gnb_model = gnb_model.fit(train_in, train_out)\n",
    "print(gnb_model)\n",
    "\n",
    "print(\"Valores previstos: \" , gnb_model.predict(test_in))\n",
    "print(\"Valores reais: \" , test_out)\n"
   ]
  },
  {
   "cell_type": "code",
   "execution_count": 6,
   "metadata": {},
   "outputs": [],
   "source": [
    "### Exemplos com o dataset digits - divisão da amostra 2/3 treino e 1/3 teste"
   ]
  },
  {
   "cell_type": "code",
   "execution_count": 7,
   "metadata": {},
   "outputs": [
    {
     "name": "stdout",
     "output_type": "stream",
     "text": [
      "Numero de exemplos para teste:  599\n"
     ]
    },
    {
     "data": {
      "text/plain": [
       "((1198, 64), (1198,), (599, 64), (599,))"
      ]
     },
     "execution_count": 7,
     "metadata": {},
     "output_type": "execute_result"
    }
   ],
   "source": [
    "numtst = int(digits.data.shape[0] / 3)\n",
    "print(\"Numero de exemplos para teste: \", numtst)\n",
    "\n",
    "indices_dig = np.random.permutation(len(digits.data))\n",
    "\n",
    "dig_train_in = digits.data[indices_dig[:-numtst]]\n",
    "dig_train_out = digits.target[indices_dig[:-numtst]]\n",
    "\n",
    "dig_test_in  = digits.data[indices_dig[-numtst:]]\n",
    "dig_test_out = digits.target[indices_dig[-numtst:]]\n",
    "\n",
    "dig_train_in.shape, dig_train_out.shape, dig_test_in.shape, dig_test_out.shape"
   ]
  },
  {
   "cell_type": "code",
   "execution_count": 8,
   "metadata": {},
   "outputs": [
    {
     "data": {
      "text/plain": [
       "array([5, 4, 2, 1, 9, 1, 2, 5, 9, 7, 5, 4, 9, 4, 7, 5, 3, 2, 1])"
      ]
     },
     "execution_count": 8,
     "metadata": {},
     "output_type": "execute_result"
    }
   ],
   "source": [
    "dig_knn = KNeighborsClassifier()\n",
    "dig_knn.fit(dig_train_in, dig_train_out)\n",
    "prev_knn = dig_knn.predict(dig_test_in)\n",
    "prev_knn[1:20]"
   ]
  },
  {
   "cell_type": "code",
   "execution_count": 9,
   "metadata": {},
   "outputs": [
    {
     "name": "stdout",
     "output_type": "stream",
     "text": [
      "PECC:  0.986644407345576\n"
     ]
    }
   ],
   "source": [
    "## definindo funcao para PECC\n",
    "def pecc (prev, real):\n",
    "    return sum([ (prev[i]==real[i]) for i in range(len(prev)) ])/ len(prev)\n",
    "\n",
    "print (\"PECC: \", pecc(prev_knn, dig_test_out) )"
   ]
  },
  {
   "cell_type": "code",
   "execution_count": 10,
   "metadata": {},
   "outputs": [
    {
     "name": "stdout",
     "output_type": "stream",
     "text": [
      "PECC (accuracy): 0.986644407345576\n",
      "PECC (accuracy): 0.986644407345576\n"
     ]
    }
   ],
   "source": [
    "## em alternativa\n",
    "from sklearn.metrics import accuracy_score\n",
    "print(\"PECC (accuracy):\", dig_knn.score(dig_test_in, dig_test_out))\n",
    "print(\"PECC (accuracy):\", accuracy_score(dig_test_out, prev_knn) )"
   ]
  },
  {
   "cell_type": "code",
   "execution_count": 11,
   "metadata": {},
   "outputs": [
    {
     "data": {
      "text/plain": [
       "array([[61,  0,  0,  0,  0,  0,  0,  0,  0,  0],\n",
       "       [ 0, 60,  0,  0,  0,  1,  0,  0,  0,  0],\n",
       "       [ 0,  0, 56,  0,  0,  0,  0,  1,  0,  0],\n",
       "       [ 0,  0,  0, 51,  0,  0,  0,  1,  0,  0],\n",
       "       [ 0,  0,  0,  0, 70,  0,  0,  0,  0,  0],\n",
       "       [ 0,  0,  0,  0,  0, 60,  0,  0,  0,  1],\n",
       "       [ 0,  0,  0,  0,  0,  0, 54,  0,  0,  0],\n",
       "       [ 0,  0,  0,  0,  0,  0,  0, 56,  0,  0],\n",
       "       [ 0,  2,  0,  0,  0,  0,  0,  0, 65,  0],\n",
       "       [ 0,  0,  0,  1,  0,  1,  0,  0,  0, 58]])"
      ]
     },
     "execution_count": 11,
     "metadata": {},
     "output_type": "execute_result"
    }
   ],
   "source": [
    "from sklearn.metrics import confusion_matrix\n",
    "\n",
    "confusion_matrix(dig_test_out, prev_knn)"
   ]
  },
  {
   "cell_type": "code",
   "execution_count": 12,
   "metadata": {},
   "outputs": [
    {
     "name": "stdout",
     "output_type": "stream",
     "text": [
      "PECC (accuracy): 0.8447412353923205\n"
     ]
    }
   ],
   "source": [
    "tree_model_dig = tree.DecisionTreeClassifier()\n",
    "tree_model_dig = tree_model_dig.fit(dig_train_in, dig_train_out)\n",
    "prev_tree = tree_model_dig.predict(dig_test_in)\n",
    "print(\"PECC (accuracy):\", accuracy_score(dig_test_out, prev_tree) )"
   ]
  },
  {
   "cell_type": "code",
   "execution_count": 13,
   "metadata": {},
   "outputs": [
    {
     "name": "stdout",
     "output_type": "stream",
     "text": [
      "PECC (accuracy): 0.8213689482470785\n"
     ]
    }
   ],
   "source": [
    "gnb_model_dig = GaussianNB()\n",
    "gnb_model_dig = gnb_model_dig.fit(dig_train_in, dig_train_out)\n",
    "print(\"PECC (accuracy):\", gnb_model_dig.score(dig_test_in, dig_test_out))"
   ]
  },
  {
   "cell_type": "markdown",
   "metadata": {},
   "source": [
    "## Regressão"
   ]
  },
  {
   "cell_type": "code",
   "execution_count": 14,
   "metadata": {},
   "outputs": [
    {
     "name": "stdout",
     "output_type": "stream",
     "text": [
      ".. _diabetes_dataset:\n",
      "\n",
      "Diabetes dataset\n",
      "----------------\n",
      "\n",
      "Ten baseline variables, age, sex, body mass index, average blood\n",
      "pressure, and six blood serum measurements were obtained for each of n =\n",
      "442 diabetes patients, as well as the response of interest, a\n",
      "quantitative measure of disease progression one year after baseline.\n",
      "\n",
      "**Data Set Characteristics:**\n",
      "\n",
      "  :Number of Instances: 442\n",
      "\n",
      "  :Number of Attributes: First 10 columns are numeric predictive values\n",
      "\n",
      "  :Target: Column 11 is a quantitative measure of disease progression one year after baseline\n",
      "\n",
      "  :Attribute Information:\n",
      "      - age     age in years\n",
      "      - sex\n",
      "      - bmi     body mass index\n",
      "      - bp      average blood pressure\n",
      "      - s1      tc, total serum cholesterol\n",
      "      - s2      ldl, low-density lipoproteins\n",
      "      - s3      hdl, high-density lipoproteins\n",
      "      - s4      tch, total cholesterol / HDL\n",
      "      - s5      ltg, possibly log of serum triglycerides level\n",
      "      - s6      glu, blood sugar level\n",
      "\n",
      "Note: Each of these 10 feature variables have been mean centered and scaled by the standard deviation times `n_samples` (i.e. the sum of squares of each column totals 1).\n",
      "\n",
      "Source URL:\n",
      "https://www4.stat.ncsu.edu/~boos/var.select/diabetes.html\n",
      "\n",
      "For more information see:\n",
      "Bradley Efron, Trevor Hastie, Iain Johnstone and Robert Tibshirani (2004) \"Least Angle Regression,\" Annals of Statistics (with discussion), 407-499.\n",
      "(https://web.stanford.edu/~hastie/Papers/LARS/LeastAngle_2002.pdf)\n"
     ]
    }
   ],
   "source": [
    "from sklearn import datasets\n",
    "diabetes = datasets.load_diabetes()\n",
    "\n",
    "print(diabetes.DESCR)"
   ]
  },
  {
   "cell_type": "code",
   "execution_count": 15,
   "metadata": {},
   "outputs": [],
   "source": [
    "indices_diab = np.random.permutation(len(diabetes.data))\n",
    "X_train = diabetes.data[indices_diab[:-50]]\n",
    "X_test = diabetes.data[indices_diab[-50:]]\n",
    "y_train = diabetes.target[indices_diab[:-50]]\n",
    "y_test = diabetes.target[indices_diab[-50:]]"
   ]
  },
  {
   "cell_type": "code",
   "execution_count": 16,
   "metadata": {},
   "outputs": [
    {
     "name": "stdout",
     "output_type": "stream",
     "text": [
      "DecisionTreeRegressor()\n",
      "Valores previstos:  [197. 219.  65. 275. 185.  86. 214.  55.  48. 202. 131. 248.  65.  92.\n",
      "  72. 215. 210. 180.  77.  72.  86. 180. 259. 283.  95.  44. 292. 142.\n",
      "  72.  97. 214. 283. 233. 135.  49. 310. 120. 200. 171. 184.  97. 281.\n",
      " 111. 111. 141.  51. 104.  83. 108. 191.]\n",
      "Valores reais:  [196. 200.  74. 258. 140. 252. 217. 116.  59. 126. 257. 217.  63.  88.\n",
      "  52. 258. 201. 243.  51.  88. 170. 264.  91. 236. 258.  39. 245. 182.\n",
      "  81.  53.  97. 248.  91.  79. 138. 242. 190. 156. 131. 145.  83. 303.\n",
      "  90.  69.  55. 253. 216.  43. 199. 283.]\n"
     ]
    }
   ],
   "source": [
    "from sklearn.tree import DecisionTreeRegressor\n",
    "\n",
    "regr_tree = DecisionTreeRegressor()\n",
    "regr_tree = regr_tree.fit(X_train, y_train)\n",
    "print(regr_tree)\n",
    "prev_diab = regr_tree.predict(X_test)\n",
    "print(\"Valores previstos: \" , prev_diab)\n",
    "print(\"Valores reais: \" , y_test)\n"
   ]
  },
  {
   "cell_type": "code",
   "execution_count": 17,
   "metadata": {},
   "outputs": [
    {
     "data": {
      "text/plain": [
       "0.10006494386505083"
      ]
     },
     "execution_count": 17,
     "metadata": {},
     "output_type": "execute_result"
    }
   ],
   "source": [
    "regr_tree.score(X_test, y_test)"
   ]
  },
  {
   "cell_type": "code",
   "execution_count": 18,
   "metadata": {},
   "outputs": [
    {
     "data": {
      "text/plain": [
       "5673.66"
      ]
     },
     "execution_count": 18,
     "metadata": {},
     "output_type": "execute_result"
    }
   ],
   "source": [
    "from sklearn.metrics import mean_squared_error\n",
    "mean_squared_error(y_test, prev_diab)"
   ]
  },
  {
   "cell_type": "code",
   "execution_count": 19,
   "metadata": {},
   "outputs": [
    {
     "data": {
      "text/plain": [
       "57.22"
      ]
     },
     "execution_count": 19,
     "metadata": {},
     "output_type": "execute_result"
    }
   ],
   "source": [
    "from sklearn.metrics import mean_absolute_error\n",
    "mean_absolute_error(y_test, prev_diab)"
   ]
  },
  {
   "cell_type": "code",
   "execution_count": 20,
   "metadata": {},
   "outputs": [
    {
     "data": {
      "text/plain": [
       "0.10006494386505083"
      ]
     },
     "execution_count": 20,
     "metadata": {},
     "output_type": "execute_result"
    }
   ],
   "source": [
    "from sklearn.metrics import r2_score\n",
    "r2_score(y_test, prev_diab)"
   ]
  },
  {
   "cell_type": "code",
   "execution_count": null,
   "metadata": {},
   "outputs": [],
   "source": []
  }
 ],
 "metadata": {
  "anaconda-cloud": {},
  "kernelspec": {
   "display_name": "Python 3 (ipykernel)",
   "language": "python",
   "name": "python3"
  },
  "language_info": {
   "codemirror_mode": {
    "name": "ipython",
    "version": 3
   },
   "file_extension": ".py",
   "mimetype": "text/x-python",
   "name": "python",
   "nbconvert_exporter": "python",
   "pygments_lexer": "ipython3",
   "version": "3.9.7"
  }
 },
 "nbformat": 4,
 "nbformat_minor": 1
}
