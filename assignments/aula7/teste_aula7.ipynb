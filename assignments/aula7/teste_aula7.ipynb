{
 "cells": [
  {
   "cell_type": "markdown",
   "metadata": {},
   "source": [
    "## Testing notebook for cross validate function"
   ]
  },
  {
   "cell_type": "code",
   "execution_count": 7,
   "metadata": {},
   "outputs": [],
   "source": [
    "from src.si.linear_model.logistic_regression import LogisticRegression\n",
    "from src.si.model_selection.cross_validate import cross_validate\n",
    "from src.si.model_selection.grid_search import grid_search_cv\n",
    "from src.si.IO.csv_file import read_csv\n",
    "from sklearn.preprocessing import StandardScaler\n",
    "import pandas as pd\n",
    "import numpy as np"
   ]
  },
  {
   "cell_type": "markdown",
   "metadata": {},
   "source": [
    "### Load data"
   ]
  },
  {
   "cell_type": "code",
   "execution_count": 8,
   "metadata": {},
   "outputs": [
    {
     "name": "stderr",
     "output_type": "stream",
     "text": [
      "/home/rui/Desktop/SIB/si/src/si/IO/csv_file.py:28: FutureWarning: In a future version of pandas all arguments of read_csv except for the argument 'filepath_or_buffer' will be keyword-only.\n",
      "  data = pd.read_csv(filename, sep)\n"
     ]
    },
    {
     "data": {
      "text/plain": [
       "(698, 9)"
      ]
     },
     "execution_count": 8,
     "metadata": {},
     "output_type": "execute_result"
    }
   ],
   "source": [
    "df = read_csv(\"/home/rui/Desktop/SIB/si/assignments/aula7/breast-bin.csv\", features=False, label=True)\n",
    "df.get_shape()"
   ]
  },
  {
   "cell_type": "markdown",
   "metadata": {},
   "source": [
    "### Standardization of the X part of our dataset"
   ]
  },
  {
   "cell_type": "code",
   "execution_count": 9,
   "metadata": {},
   "outputs": [
    {
     "data": {
      "text/plain": [
       "array([[ 0.20885295, -0.69912815, -0.74242297, ..., -1.0000359 ,\n",
       "        -0.61132565, -0.34418721],\n",
       "       [-0.8578253 , -0.69912815, -0.74242297, ..., -0.58991542,\n",
       "        -0.61132565, -0.34418721],\n",
       "       [-0.8578253 , -0.69912815, -0.74242297, ..., -0.17979494,\n",
       "        -0.61132565, -0.34418721],\n",
       "       ...,\n",
       "       [ 0.20885295, -0.37139715, -0.40592217, ..., -1.0000359 ,\n",
       "        -0.61132565,  0.23892607],\n",
       "       [-0.8578253 , -0.04366616, -0.40592217, ..., -0.17979494,\n",
       "        -0.61132565, -0.34418721],\n",
       "       [ 0.91997179,  0.93952681,  0.94008103, ...,  1.46068699,\n",
       "        -0.61132565, -0.34418721]])"
      ]
     },
     "execution_count": 9,
     "metadata": {},
     "output_type": "execute_result"
    }
   ],
   "source": [
    "df.X = StandardScaler().fit_transform(df.X)\n",
    "df.X"
   ]
  },
  {
   "cell_type": "markdown",
   "metadata": {},
   "source": [
    "### Cross validate test with Logistic Regression"
   ]
  },
  {
   "cell_type": "code",
   "execution_count": 10,
   "metadata": {},
   "outputs": [
    {
     "data": {
      "text/plain": [
       "{'seed': [362, 702, 483, 187, 297],\n",
       " 'train': [0.962432915921288,\n",
       "  0.9660107334525939,\n",
       "  0.9660107334525939,\n",
       "  0.962432915921288,\n",
       "  0.9677996422182469],\n",
       " 'test': [0.9856115107913669,\n",
       "  0.9712230215827338,\n",
       "  0.9712230215827338,\n",
       "  0.9856115107913669,\n",
       "  0.9640287769784173]}"
      ]
     },
     "execution_count": 10,
     "metadata": {},
     "output_type": "execute_result"
    }
   ],
   "source": [
    "logistic_model = LogisticRegression()\n",
    "scores = cross_validate(logistic_model, df, cv=5)\n",
    "scores"
   ]
  },
  {
   "cell_type": "markdown",
   "metadata": {},
   "source": [
    "### Grid search test with Logistic Regression and parameter grid"
   ]
  },
  {
   "cell_type": "code",
   "execution_count": 11,
   "metadata": {},
   "outputs": [
    {
     "data": {
      "text/plain": [
       "[{'seed': [279, 797, 450],\n",
       "  'train': [0.9695885509838998, 0.9713774597495528, 0.9713774597495528],\n",
       "  'test': [0.9568345323741008, 0.9496402877697842, 0.9496402877697842],\n",
       "  'parameters': {'l2_penalty': 1, 'alpha': 0.0001, 'max_iter': 1000}},\n",
       " {'seed': [2, 913, 557],\n",
       "  'train': [0.964221824686941, 0.9713774597495528, 0.964221824686941],\n",
       "  'test': [0.9784172661870504, 0.9496402877697842, 0.9784172661870504],\n",
       "  'parameters': {'l2_penalty': 1, 'alpha': 0.0001, 'max_iter': 2000}},\n",
       " {'seed': [342, 446, 481],\n",
       "  'train': [0.9695885509838998, 0.9660107334525939, 0.9713774597495528],\n",
       "  'test': [0.9568345323741008, 0.9712230215827338, 0.9496402877697842],\n",
       "  'parameters': {'l2_penalty': 1, 'alpha': 0.001, 'max_iter': 1000}},\n",
       " {'seed': [579, 130, 933],\n",
       "  'train': [0.964221824686941, 0.9660107334525939, 0.9677996422182469],\n",
       "  'test': [0.9856115107913669, 0.9712230215827338, 0.9640287769784173],\n",
       "  'parameters': {'l2_penalty': 1, 'alpha': 0.001, 'max_iter': 2000}},\n",
       " {'seed': [484, 564, 788],\n",
       "  'train': [0.964221824686941, 0.9713774597495528, 0.964221824686941],\n",
       "  'test': [0.9784172661870504, 0.9496402877697842, 0.9784172661870504],\n",
       "  'parameters': {'l2_penalty': 10, 'alpha': 0.0001, 'max_iter': 1000}},\n",
       " {'seed': [8, 107, 436],\n",
       "  'train': [0.9677996422182469, 0.962432915921288, 0.9660107334525939],\n",
       "  'test': [0.9640287769784173, 0.9856115107913669, 0.9712230215827338],\n",
       "  'parameters': {'l2_penalty': 10, 'alpha': 0.0001, 'max_iter': 2000}},\n",
       " {'seed': [412, 191, 499],\n",
       "  'train': [0.9660107334525939, 0.9731663685152058, 0.9713774597495528],\n",
       "  'test': [0.9712230215827338, 0.9424460431654677, 0.9496402877697842],\n",
       "  'parameters': {'l2_penalty': 10, 'alpha': 0.001, 'max_iter': 1000}},\n",
       " {'seed': [635, 147, 123],\n",
       "  'train': [0.9695885509838998, 0.9660107334525939, 0.964221824686941],\n",
       "  'test': [0.9640287769784173, 0.9712230215827338, 0.9856115107913669],\n",
       "  'parameters': {'l2_penalty': 10, 'alpha': 0.001, 'max_iter': 2000}}]"
      ]
     },
     "execution_count": 11,
     "metadata": {},
     "output_type": "execute_result"
    }
   ],
   "source": [
    "lg_model = LogisticRegression()\n",
    "\n",
    "parameter_grid = {\n",
    "    \"l2_penalty\": [1, 10],\n",
    "    \"alpha\": {0.001, 0.0001},\n",
    "    \"max_iter\": [1000, 2000]\n",
    "}\n",
    "\n",
    "scores = grid_search_cv(lg_model,\n",
    "                        df,\n",
    "                        parameter_grid=parameter_grid,\n",
    "                        cv=3)\n",
    "\n",
    "scores"
   ]
  },
  {
   "cell_type": "markdown",
   "metadata": {},
   "source": [
    "### Test randomized grid search new function (EVALUATION)"
   ]
  },
  {
   "cell_type": "code",
   "execution_count": 12,
   "metadata": {},
   "outputs": [],
   "source": [
    "from src.si.model_selection.randomized_grid_search import randomized_search_cv"
   ]
  },
  {
   "cell_type": "code",
   "execution_count": 13,
   "metadata": {},
   "outputs": [],
   "source": [
    "logistic_reg = LogisticRegression()"
   ]
  },
  {
   "cell_type": "code",
   "execution_count": 14,
   "metadata": {},
   "outputs": [
    {
     "data": {
      "text/plain": [
       "{'parameters': [{'l2_penalty': 4.0,\n",
       "   'alpha': 0.0009454545454545454,\n",
       "   'max_iter': 1879.3969849246232},\n",
       "  {'l2_penalty': 1.0, 'alpha': 0.0005, 'max_iter': 1371.859296482412},\n",
       "  {'l2_penalty': 1.0,\n",
       "   'alpha': 0.0009636363636363637,\n",
       "   'max_iter': 1025.1256281407036},\n",
       "  {'l2_penalty': 3.0,\n",
       "   'alpha': 0.0003454545454545455,\n",
       "   'max_iter': 1994.9748743718594},\n",
       "  {'l2_penalty': 3.0,\n",
       "   'alpha': 0.00023636363636363633,\n",
       "   'max_iter': 1175.8793969849246},\n",
       "  {'l2_penalty': 5.0,\n",
       "   'alpha': 0.00010909090909090905,\n",
       "   'max_iter': 1195.9798994974874},\n",
       "  {'l2_penalty': 6.0,\n",
       "   'alpha': 0.0005636363636363636,\n",
       "   'max_iter': 1954.7738693467336},\n",
       "  {'l2_penalty': 1.0,\n",
       "   'alpha': 0.0003363636363636364,\n",
       "   'max_iter': 1557.788944723618},\n",
       "  {'l2_penalty': 10.0,\n",
       "   'alpha': 0.0003636363636363636,\n",
       "   'max_iter': 1643.21608040201},\n",
       "  {'l2_penalty': 10.0,\n",
       "   'alpha': 0.0006272727272727273,\n",
       "   'max_iter': 1020.1005025125628}],\n",
       " 'seeds': [823, 776, 274, 383, 561, 2, 193, 387, 950, 170],\n",
       " 'train': [[0.9677996422182469, 0.9695885509838998, 0.964221824686941],\n",
       "  [0.9695885509838998, 0.964221824686941, 0.9695885509838998],\n",
       "  [0.964221824686941, 0.9677996422182469, 0.9660107334525939],\n",
       "  [0.9677996422182469, 0.9660107334525939, 0.964221824686941],\n",
       "  [0.9677996422182469, 0.964221824686941, 0.9660107334525939],\n",
       "  [0.9731663685152058, 0.9660107334525939, 0.960644007155635],\n",
       "  [0.9677996422182469, 0.9713774597495528, 0.9660107334525939],\n",
       "  [0.9660107334525939, 0.962432915921288, 0.9677996422182469],\n",
       "  [0.9660107334525939, 0.9677996422182469, 0.9713774597495528],\n",
       "  [0.964221824686941, 0.9695885509838998, 0.9660107334525939]],\n",
       " 'test': [[0.9712230215827338, 0.9568345323741008, 0.9856115107913669],\n",
       "  [0.9568345323741008, 0.9784172661870504, 0.9568345323741008],\n",
       "  [0.9784172661870504, 0.9640287769784173, 0.9712230215827338],\n",
       "  [0.9640287769784173, 0.9712230215827338, 0.9784172661870504],\n",
       "  [0.9640287769784173, 0.9784172661870504, 0.9712230215827338],\n",
       "  [0.9424460431654677, 0.9712230215827338, 0.9928057553956835],\n",
       "  [0.9640287769784173, 0.9496402877697842, 0.9712230215827338],\n",
       "  [0.9712230215827338, 0.9856115107913669, 0.9640287769784173],\n",
       "  [0.9712230215827338, 0.9640287769784173, 0.9496402877697842],\n",
       "  [0.9784172661870504, 0.9568345323741008, 0.9712230215827338]]}"
      ]
     },
     "execution_count": 14,
     "metadata": {},
     "output_type": "execute_result"
    }
   ],
   "source": [
    "parameter_distribution = {\n",
    "    \"l2_penalty\": np.linspace(1, 10, 10),\n",
    "    \"alpha\": np.linspace(0.001, 0.0001, 100),\n",
    "    \"max_iter\": np.linspace(1000, 2000, 200)\n",
    "}\n",
    "\n",
    "scores = randomized_search_cv(model=logistic_reg, \n",
    "                             dataset=df,\n",
    "                              parameter_distribution=parameter_distribution,\n",
    "                              cv=3,\n",
    "                              n_iter=10)\n",
    "\n",
    "scores"
   ]
  },
  {
   "cell_type": "code",
   "execution_count": null,
   "metadata": {},
   "outputs": [],
   "source": []
  }
 ],
 "metadata": {
  "kernelspec": {
   "display_name": "Python 3.10.6 64-bit",
   "language": "python",
   "name": "python3"
  },
  "language_info": {
   "codemirror_mode": {
    "name": "ipython",
    "version": 3
   },
   "file_extension": ".py",
   "mimetype": "text/x-python",
   "name": "python",
   "nbconvert_exporter": "python",
   "pygments_lexer": "ipython3",
   "version": "3.10.6"
  },
  "orig_nbformat": 4,
  "vscode": {
   "interpreter": {
    "hash": "916dbcbb3f70747c44a77c7bcd40155683ae19c65e1c03b4aa3499c5328201f1"
   }
  }
 },
 "nbformat": 4,
 "nbformat_minor": 2
}
