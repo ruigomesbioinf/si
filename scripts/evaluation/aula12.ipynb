{
 "cells": [
  {
   "cell_type": "code",
   "execution_count": 2,
   "metadata": {},
   "outputs": [
    {
     "name": "stdout",
     "output_type": "stream",
     "text": [
      "/home/rui/Desktop/universidade/SIB/si\n"
     ]
    }
   ],
   "source": [
    "import numpy as np\n",
    "from src.si.IO.csv_file import read_csv\n",
    "from sklearn.preprocessing import StandardScaler\n",
    "from src.si.metrics.cross_entropy import cross_entropy\n",
    "from src.si.model_selection.split import train_test_split\n",
    "from src.si.neural_networks.layers import Dense\n",
    "from src.si.neural_networks.relu_activation import ReLUActivation\n",
    "from src.si.neural_networks.linear_activation import LinearActivation\n",
    "from src.si.neural_networks.sigmoid_activation import SigmoidActivation\n",
    "from src.si.neural_networks.soft_max_activation import SoftMaxActivation\n",
    "from src.si.neural_networks.nn import NN"
   ]
  },
  {
   "cell_type": "markdown",
   "metadata": {},
   "source": [
    "Ex 12.1) Implement backward propagation method for the ReLUActivation layer."
   ]
  },
  {
   "cell_type": "markdown",
   "metadata": {},
   "source": [
    "Implemented directly on code"
   ]
  },
  {
   "cell_type": "markdown",
   "metadata": {},
   "source": [
    "Ex 12.2) Build a Neural Network model for the breast-bin.csv dataset."
   ]
  },
  {
   "cell_type": "code",
   "execution_count": 3,
   "metadata": {},
   "outputs": [],
   "source": [
    "breast_bin_dataset = \"/home/rui/Desktop/universidade/SIB/si/datasets/breast-bin.csv\"\n",
    "data = read_csv(breast_bin_dataset, label=True)"
   ]
  },
  {
   "cell_type": "code",
   "execution_count": 4,
   "metadata": {},
   "outputs": [],
   "source": [
    "data.X = StandardScaler().fit_transform(data.X)"
   ]
  },
  {
   "cell_type": "code",
   "execution_count": 5,
   "metadata": {},
   "outputs": [],
   "source": [
    "data_train, data_test = train_test_split(data)"
   ]
  },
  {
   "cell_type": "code",
   "execution_count": 6,
   "metadata": {},
   "outputs": [],
   "source": [
    "bb_layer1 = Dense(input_size=9, output_size=9)\n",
    "bb_layer2 = Dense(input_size=9, output_size=5)\n",
    "bb_layer3 = Dense(input_size=5, output_size=1)\n",
    "\n",
    "bb_layer1_activation = ReLUActivation()\n",
    "bb_layer2_activation = ReLUActivation()\n",
    "bb_layer3_activation = SigmoidActivation()\n",
    "\n",
    "bb_model = NN(layers=[bb_layer1, bb_layer1_activation, bb_layer2, bb_layer2_activation, bb_layer3, bb_layer3_activation])"
   ]
  },
  {
   "cell_type": "code",
   "execution_count": 7,
   "metadata": {},
   "outputs": [
    {
     "data": {
      "text/plain": [
       "<src.si.neural_networks.nn.NN at 0x7fea42ab76d0>"
      ]
     },
     "execution_count": 7,
     "metadata": {},
     "output_type": "execute_result"
    }
   ],
   "source": [
    "bb_model.fit(dataset=data_train)"
   ]
  },
  {
   "cell_type": "code",
   "execution_count": 8,
   "metadata": {},
   "outputs": [
    {
     "data": {
      "text/plain": [
       "array([[0.42567906],\n",
       "       [0.42567841],\n",
       "       [0.42567583],\n",
       "       [0.42567563],\n",
       "       [0.42567569],\n",
       "       [0.42567561],\n",
       "       [0.42568058],\n",
       "       [0.42567578],\n",
       "       [0.42567556],\n",
       "       [0.42568142],\n",
       "       [0.42567572],\n",
       "       [0.42568233],\n",
       "       [0.42567947],\n",
       "       [0.42568033],\n",
       "       [0.42567581],\n",
       "       [0.42567563],\n",
       "       [0.42567569],\n",
       "       [0.42567588],\n",
       "       [0.42567975],\n",
       "       [0.42567577],\n",
       "       [0.42567557],\n",
       "       [0.42567885],\n",
       "       [0.42567567],\n",
       "       [0.42568334],\n",
       "       [0.42568033],\n",
       "       [0.42567794],\n",
       "       [0.42567561],\n",
       "       [0.42567571],\n",
       "       [0.42567558],\n",
       "       [0.42567569],\n",
       "       [0.42568534],\n",
       "       [0.4256758 ],\n",
       "       [0.42568859],\n",
       "       [0.42567566],\n",
       "       [0.42567574],\n",
       "       [0.42567561],\n",
       "       [0.4256757 ],\n",
       "       [0.42567567],\n",
       "       [0.42568121],\n",
       "       [0.42568483],\n",
       "       [0.42567586],\n",
       "       [0.42567563],\n",
       "       [0.42567756],\n",
       "       [0.42567588],\n",
       "       [0.4256768 ],\n",
       "       [0.42568312],\n",
       "       [0.42568003],\n",
       "       [0.42567572],\n",
       "       [0.4256757 ],\n",
       "       [0.42568246],\n",
       "       [0.42568195],\n",
       "       [0.4256813 ],\n",
       "       [0.42567795],\n",
       "       [0.42567574],\n",
       "       [0.42567564],\n",
       "       [0.4256876 ],\n",
       "       [0.42567578],\n",
       "       [0.42567561],\n",
       "       [0.42568727],\n",
       "       [0.42567576],\n",
       "       [0.42567812],\n",
       "       [0.42567753],\n",
       "       [0.42567637],\n",
       "       [0.42567568],\n",
       "       [0.42567586],\n",
       "       [0.4256796 ],\n",
       "       [0.42567574],\n",
       "       [0.42567557],\n",
       "       [0.42568114],\n",
       "       [0.42567574],\n",
       "       [0.42567574],\n",
       "       [0.42567565],\n",
       "       [0.42567569],\n",
       "       [0.42567579],\n",
       "       [0.42567845],\n",
       "       [0.42567594],\n",
       "       [0.42567573],\n",
       "       [0.42568185],\n",
       "       [0.42567584],\n",
       "       [0.42567646],\n",
       "       [0.42567569],\n",
       "       [0.42568152],\n",
       "       [0.42567566],\n",
       "       [0.42567574],\n",
       "       [0.42567574],\n",
       "       [0.4256767 ],\n",
       "       [0.42568165],\n",
       "       [0.42567584],\n",
       "       [0.42567744],\n",
       "       [0.42567578],\n",
       "       [0.42567567],\n",
       "       [0.42567916],\n",
       "       [0.42567567],\n",
       "       [0.42568131],\n",
       "       [0.42567812],\n",
       "       [0.42567566],\n",
       "       [0.42567566],\n",
       "       [0.42567561],\n",
       "       [0.42567567],\n",
       "       [0.42567932],\n",
       "       [0.42567859],\n",
       "       [0.42567606],\n",
       "       [0.42568476],\n",
       "       [0.42567861],\n",
       "       [0.42567567],\n",
       "       [0.4256785 ],\n",
       "       [0.42567579],\n",
       "       [0.42567569],\n",
       "       [0.42567572],\n",
       "       [0.4256816 ],\n",
       "       [0.42568498],\n",
       "       [0.42567953],\n",
       "       [0.42567563],\n",
       "       [0.42567569],\n",
       "       [0.42567551],\n",
       "       [0.42567671],\n",
       "       [0.42567568],\n",
       "       [0.42568011],\n",
       "       [0.42568061],\n",
       "       [0.42567556],\n",
       "       [0.42567569],\n",
       "       [0.42567552],\n",
       "       [0.42568178],\n",
       "       [0.42567561],\n",
       "       [0.42567568],\n",
       "       [0.42567579],\n",
       "       [0.42567566],\n",
       "       [0.42567607],\n",
       "       [0.42567561],\n",
       "       [0.42567577],\n",
       "       [0.42567566],\n",
       "       [0.42568288],\n",
       "       [0.42567659],\n",
       "       [0.42567561],\n",
       "       [0.42567564],\n",
       "       [0.42567794],\n",
       "       [0.42567567],\n",
       "       [0.42567587],\n",
       "       [0.42567933]])"
      ]
     },
     "execution_count": 8,
     "metadata": {},
     "output_type": "execute_result"
    }
   ],
   "source": [
    "bb_model.predict(dataset=data_test)"
   ]
  },
  {
   "cell_type": "markdown",
   "metadata": {},
   "source": [
    "Ex 12.3) Build a Neural Network model for the cpu.csv dataset."
   ]
  },
  {
   "cell_type": "code",
   "execution_count": 9,
   "metadata": {},
   "outputs": [],
   "source": [
    "cpu_path = \"/home/rui/Desktop/universidade/SIB/si/datasets/cpu.csv\"\n",
    "cpu_data = read_csv(cpu_path, features=True, label=True)"
   ]
  },
  {
   "cell_type": "code",
   "execution_count": 10,
   "metadata": {},
   "outputs": [],
   "source": [
    "cpu_data.X = StandardScaler().fit_transform(cpu_data.X)"
   ]
  },
  {
   "cell_type": "code",
   "execution_count": 11,
   "metadata": {},
   "outputs": [],
   "source": [
    "train, test = train_test_split(cpu_data)"
   ]
  },
  {
   "cell_type": "code",
   "execution_count": 12,
   "metadata": {},
   "outputs": [],
   "source": [
    "\n",
    "layer1 = Dense(input_size=6, output_size=6)\n",
    "layer2 = Dense(input_size=6, output_size=4)\n",
    "layer3 = Dense(input_size=4, output_size=1)\n",
    "\n",
    "layer1_activation = ReLUActivation()\n",
    "layer2_activation = ReLUActivation()\n",
    "layer3_activation = SigmoidActivation()\n",
    "\n",
    "model = NN(layers=[layer1, layer1_activation, layer2, layer2_activation, layer3, layer3_activation])"
   ]
  },
  {
   "cell_type": "code",
   "execution_count": 13,
   "metadata": {},
   "outputs": [
    {
     "data": {
      "text/plain": [
       "<src.si.neural_networks.nn.NN at 0x7fea42ab7b20>"
      ]
     },
     "execution_count": 13,
     "metadata": {},
     "output_type": "execute_result"
    }
   ],
   "source": [
    "model.fit(train)"
   ]
  },
  {
   "cell_type": "code",
   "execution_count": 14,
   "metadata": {},
   "outputs": [
    {
     "data": {
      "text/plain": [
       "array([[0.9995303 ],\n",
       "       [0.99954761],\n",
       "       [0.99957376],\n",
       "       [0.99961441],\n",
       "       [0.99953023],\n",
       "       [0.99960506],\n",
       "       [0.99953025],\n",
       "       [0.99953031],\n",
       "       [0.99953031],\n",
       "       [0.99953028],\n",
       "       [0.99953031],\n",
       "       [0.99953029],\n",
       "       [0.99953031],\n",
       "       [0.99956182],\n",
       "       [0.99953655],\n",
       "       [0.99953031],\n",
       "       [0.99953024],\n",
       "       [0.99955352],\n",
       "       [0.99956428],\n",
       "       [0.99954372],\n",
       "       [0.99953031],\n",
       "       [0.99955311],\n",
       "       [0.99953177],\n",
       "       [0.99953026],\n",
       "       [0.99953026],\n",
       "       [0.99953031],\n",
       "       [0.99954956],\n",
       "       [0.99953398],\n",
       "       [0.9995499 ],\n",
       "       [0.99953031],\n",
       "       [0.99953051],\n",
       "       [0.99953083],\n",
       "       [0.99954258],\n",
       "       [0.99953332],\n",
       "       [0.99953029],\n",
       "       [0.99953029],\n",
       "       [0.99953027],\n",
       "       [0.99953028],\n",
       "       [0.99953048],\n",
       "       [0.99953305],\n",
       "       [0.99953026],\n",
       "       [0.9995303 ],\n",
       "       [0.99953029],\n",
       "       [0.99953045],\n",
       "       [0.99956793],\n",
       "       [0.99953027],\n",
       "       [0.99955946],\n",
       "       [0.99953029],\n",
       "       [0.99953028],\n",
       "       [0.99953031],\n",
       "       [0.9995303 ],\n",
       "       [0.99955038],\n",
       "       [0.99953027],\n",
       "       [0.99953045],\n",
       "       [0.99953031],\n",
       "       [0.99953039],\n",
       "       [0.99953031],\n",
       "       [0.99953532],\n",
       "       [0.99953031],\n",
       "       [0.99953027],\n",
       "       [0.9995401 ],\n",
       "       [0.99953031],\n",
       "       [0.99953029],\n",
       "       [0.99954468],\n",
       "       [0.99957944],\n",
       "       [0.99953031],\n",
       "       [0.99953031],\n",
       "       [0.99953028],\n",
       "       [0.99953593],\n",
       "       [0.99954765],\n",
       "       [0.9995401 ],\n",
       "       [0.9995303 ],\n",
       "       [0.99956294],\n",
       "       [0.99953625],\n",
       "       [0.99953435],\n",
       "       [0.99953031],\n",
       "       [0.99953031],\n",
       "       [0.99953016],\n",
       "       [0.99954682],\n",
       "       [0.99958854],\n",
       "       [0.99953029],\n",
       "       [0.99958732],\n",
       "       [0.99953028],\n",
       "       [0.99953031],\n",
       "       [0.99953035],\n",
       "       [0.99953031],\n",
       "       [0.9995436 ],\n",
       "       [0.99953028],\n",
       "       [0.99954356],\n",
       "       [0.99953029],\n",
       "       [0.99953027],\n",
       "       [0.99953659],\n",
       "       [0.99953028],\n",
       "       [0.99954792],\n",
       "       [0.99953115],\n",
       "       [0.99953031],\n",
       "       [0.99953029],\n",
       "       [0.99953031],\n",
       "       [0.9995538 ],\n",
       "       [0.99953026],\n",
       "       [0.99953051],\n",
       "       [0.99954086],\n",
       "       [0.99955946],\n",
       "       [0.99953031],\n",
       "       [0.99953028],\n",
       "       [0.99953031],\n",
       "       [0.99955615],\n",
       "       [0.9995311 ],\n",
       "       [0.99954755],\n",
       "       [0.99953031],\n",
       "       [0.9995303 ],\n",
       "       [0.99954993],\n",
       "       [0.99957944],\n",
       "       [0.9995303 ],\n",
       "       [0.99955038],\n",
       "       [0.9995303 ],\n",
       "       [0.99953037],\n",
       "       [0.99955226],\n",
       "       [0.9995364 ],\n",
       "       [0.99959628],\n",
       "       [0.99954153],\n",
       "       [0.99953031],\n",
       "       [0.99953046],\n",
       "       [0.99953025],\n",
       "       [0.99953018],\n",
       "       [0.99953025],\n",
       "       [0.99953039],\n",
       "       [0.99953278],\n",
       "       [0.99953034],\n",
       "       [0.99958252],\n",
       "       [0.99953891],\n",
       "       [0.99953031],\n",
       "       [0.99953028],\n",
       "       [0.99953031],\n",
       "       [0.99953026],\n",
       "       [0.99953039],\n",
       "       [0.999564  ],\n",
       "       [0.99953031],\n",
       "       [0.99953031],\n",
       "       [0.9995446 ],\n",
       "       [0.99953024],\n",
       "       [0.99953031],\n",
       "       [0.99953027],\n",
       "       [0.99953029],\n",
       "       [0.99953177],\n",
       "       [0.99953031],\n",
       "       [0.99953029],\n",
       "       [0.99960087],\n",
       "       [0.99955946],\n",
       "       [0.99953039],\n",
       "       [0.99953037],\n",
       "       [0.99954492],\n",
       "       [0.99956292],\n",
       "       [0.99953028],\n",
       "       [0.99953029],\n",
       "       [0.99953082],\n",
       "       [0.99953031],\n",
       "       [0.99953027],\n",
       "       [0.99954011],\n",
       "       [0.99953031],\n",
       "       [0.99953021],\n",
       "       [0.99953762],\n",
       "       [0.99953435],\n",
       "       [0.99953031],\n",
       "       [0.9995303 ],\n",
       "       [0.99953031],\n",
       "       [0.99953031],\n",
       "       [0.99953028]])"
      ]
     },
     "execution_count": 14,
     "metadata": {},
     "output_type": "execute_result"
    }
   ],
   "source": [
    "model.predict(train)"
   ]
  },
  {
   "cell_type": "code",
   "execution_count": null,
   "metadata": {},
   "outputs": [],
   "source": []
  }
 ],
 "metadata": {
  "kernelspec": {
   "display_name": "Python 3.10.6 64-bit",
   "language": "python",
   "name": "python3"
  },
  "language_info": {
   "codemirror_mode": {
    "name": "ipython",
    "version": 3
   },
   "file_extension": ".py",
   "mimetype": "text/x-python",
   "name": "python",
   "nbconvert_exporter": "python",
   "pygments_lexer": "ipython3",
   "version": "3.10.6"
  },
  "orig_nbformat": 4,
  "vscode": {
   "interpreter": {
    "hash": "916dbcbb3f70747c44a77c7bcd40155683ae19c65e1c03b4aa3499c5328201f1"
   }
  }
 },
 "nbformat": 4,
 "nbformat_minor": 2
}
