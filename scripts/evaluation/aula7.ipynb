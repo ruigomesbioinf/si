{
 "cells": [
  {
   "cell_type": "markdown",
   "metadata": {},
   "source": [
    "# Cross Validate Test"
   ]
  },
  {
   "cell_type": "code",
   "execution_count": 3,
   "metadata": {},
   "outputs": [],
   "source": [
    "from src.si.IO.csv_file import read_csv\n",
    "from sklearn.preprocessing import StandardScaler\n",
    "from src.si.model_selection.cross_validate import cross_validate\n",
    "from src.si.model_selection.grid_search import grid_search_cv\n",
    "from src.si.model_selection.randomized_grid_search import randomized_search_cv\n",
    "from src.si.linear_model.logistic_regression import LogisticRegression\n",
    "import numpy as np"
   ]
  },
  {
   "cell_type": "code",
   "execution_count": 4,
   "metadata": {},
   "outputs": [],
   "source": [
    "breast_bin_path = \"/home/rui/Desktop/universidade/SIB/si/datasets/breast-bin.csv\"\n",
    "dataset = read_csv(breast_bin_path, label=True)"
   ]
  },
  {
   "cell_type": "code",
   "execution_count": 5,
   "metadata": {},
   "outputs": [],
   "source": [
    "dataset.X = StandardScaler().fit_transform(dataset.X)"
   ]
  },
  {
   "cell_type": "code",
   "execution_count": 7,
   "metadata": {},
   "outputs": [
    {
     "data": {
      "text/plain": [
       "{'seed': [741, 150, 881, 874, 663],\n",
       " 'train': [0.9660107334525939,\n",
       "  0.962432915921288,\n",
       "  0.962432915921288,\n",
       "  0.9677996422182469,\n",
       "  0.9677996422182469],\n",
       " 'test': [0.9712230215827338,\n",
       "  0.9856115107913669,\n",
       "  0.9856115107913669,\n",
       "  0.9640287769784173,\n",
       "  0.9640287769784173]}"
      ]
     },
     "execution_count": 7,
     "metadata": {},
     "output_type": "execute_result"
    }
   ],
   "source": [
    "lg_model = LogisticRegression()\n",
    "score = cross_validate(lg_model, dataset=dataset, cv=5)\n",
    "score"
   ]
  },
  {
   "cell_type": "markdown",
   "metadata": {},
   "source": [
    "# Grid Search test"
   ]
  },
  {
   "cell_type": "code",
   "execution_count": 8,
   "metadata": {},
   "outputs": [
    {
     "data": {
      "text/plain": [
       "[{'seed': [751, 321, 589],\n",
       "  'train': [0.9660107334525939, 0.9713774597495528, 0.9660107334525939],\n",
       "  'test': [0.9712230215827338, 0.9496402877697842, 0.9712230215827338],\n",
       "  'parameters': {'l2_penalty': 1, 'alpha': 0.001, 'max_iter': 1000}},\n",
       " {'seed': [815, 164, 421],\n",
       "  'train': [0.9713774597495528, 0.964221824686941, 0.9731663685152058],\n",
       "  'test': [0.9496402877697842, 0.9784172661870504, 0.9424460431654677],\n",
       "  'parameters': {'l2_penalty': 1, 'alpha': 0.001, 'max_iter': 2000}},\n",
       " {'seed': [473, 56, 567],\n",
       "  'train': [0.9677996422182469, 0.9660107334525939, 0.9695885509838998],\n",
       "  'test': [0.9640287769784173, 0.9712230215827338, 0.9568345323741008],\n",
       "  'parameters': {'l2_penalty': 1, 'alpha': 0.0001, 'max_iter': 1000}},\n",
       " {'seed': [364, 961, 592],\n",
       "  'train': [0.960644007155635, 0.960644007155635, 0.964221824686941],\n",
       "  'test': [0.9928057553956835, 0.9928057553956835, 0.9784172661870504],\n",
       "  'parameters': {'l2_penalty': 1, 'alpha': 0.0001, 'max_iter': 2000}},\n",
       " {'seed': [631, 587, 772],\n",
       "  'train': [0.964221824686941, 0.9660107334525939, 0.9695885509838998],\n",
       "  'test': [0.9856115107913669, 0.9712230215827338, 0.9568345323741008],\n",
       "  'parameters': {'l2_penalty': 10, 'alpha': 0.001, 'max_iter': 1000}},\n",
       " {'seed': [71, 469, 897],\n",
       "  'train': [0.9660107334525939, 0.964221824686941, 0.9785330948121646],\n",
       "  'test': [0.9784172661870504, 0.9784172661870504, 0.920863309352518],\n",
       "  'parameters': {'l2_penalty': 10, 'alpha': 0.001, 'max_iter': 2000}},\n",
       " {'seed': [223, 903, 698],\n",
       "  'train': [0.9677996422182469, 0.9677996422182469, 0.962432915921288],\n",
       "  'test': [0.9640287769784173, 0.9640287769784173, 0.9856115107913669],\n",
       "  'parameters': {'l2_penalty': 10, 'alpha': 0.0001, 'max_iter': 1000}},\n",
       " {'seed': [268, 748, 518],\n",
       "  'train': [0.962432915921288, 0.9677996422182469, 0.9749552772808586],\n",
       "  'test': [0.9856115107913669, 0.9640287769784173, 0.935251798561151],\n",
       "  'parameters': {'l2_penalty': 10, 'alpha': 0.0001, 'max_iter': 2000}}]"
      ]
     },
     "execution_count": 8,
     "metadata": {},
     "output_type": "execute_result"
    }
   ],
   "source": [
    "lg_model = LogisticRegression()\n",
    "lg_model_parameters = {'l2_penalty': [1, 10],\n",
    "             'alpha': [0.001, 0.0001],\n",
    "            'max_iter': [1000, 2000]}\n",
    "\n",
    "scores = grid_search_cv(lg_model, dataset, lg_model_parameters, cv=3)\n",
    "scores"
   ]
  },
  {
   "cell_type": "markdown",
   "metadata": {},
   "source": [
    "# Randomized Search test"
   ]
  },
  {
   "cell_type": "code",
   "execution_count": 9,
   "metadata": {},
   "outputs": [
    {
     "data": {
      "text/plain": [
       "{'parameters': [{'l2_penalty': 7.0,\n",
       "   'alpha': 0.0009454545454545454,\n",
       "   'max_iter': 1170.854271356784},\n",
       "  {'l2_penalty': 7.0,\n",
       "   'alpha': 0.0008636363636363636,\n",
       "   'max_iter': 1326.6331658291458},\n",
       "  {'l2_penalty': 2.0,\n",
       "   'alpha': 0.0008181818181818182,\n",
       "   'max_iter': 1572.8643216080402},\n",
       "  {'l2_penalty': 10.0,\n",
       "   'alpha': 0.00025454545454545456,\n",
       "   'max_iter': 1984.924623115578},\n",
       "  {'l2_penalty': 2.0,\n",
       "   'alpha': 0.0001454545454545455,\n",
       "   'max_iter': 1256.281407035176},\n",
       "  {'l2_penalty': 9.0,\n",
       "   'alpha': 0.00038181818181818184,\n",
       "   'max_iter': 1231.1557788944724},\n",
       "  {'l2_penalty': 8.0,\n",
       "   'alpha': 0.0002090909090909091,\n",
       "   'max_iter': 1216.0804020100502},\n",
       "  {'l2_penalty': 9.0,\n",
       "   'alpha': 0.00023636363636363633,\n",
       "   'max_iter': 1854.2713567839196},\n",
       "  {'l2_penalty': 6.0,\n",
       "   'alpha': 0.0005363636363636364,\n",
       "   'max_iter': 1135.678391959799},\n",
       "  {'l2_penalty': 8.0,\n",
       "   'alpha': 0.0002181818181818182,\n",
       "   'max_iter': 1376.8844221105528}],\n",
       " 'seeds': [881, 413, 957, 838, 805, 480, 828, 884, 287, 306],\n",
       " 'train': [[0.9660107334525939, 0.9660107334525939, 0.9695885509838998],\n",
       "  [0.9660107334525939, 0.9677996422182469, 0.9677996422182469],\n",
       "  [0.964221824686941, 0.9731663685152058, 0.964221824686941],\n",
       "  [0.9660107334525939, 0.960644007155635, 0.964221824686941],\n",
       "  [0.9713774597495528, 0.9677996422182469, 0.9660107334525939],\n",
       "  [0.962432915921288, 0.9695885509838998, 0.9695885509838998],\n",
       "  [0.9695885509838998, 0.964221824686941, 0.9660107334525939],\n",
       "  [0.9677996422182469, 0.9731663685152058, 0.9677996422182469],\n",
       "  [0.9713774597495528, 0.9660107334525939, 0.9677996422182469],\n",
       "  [0.9660107334525939, 0.964221824686941, 0.9695885509838998]],\n",
       " 'test': [[0.9712230215827338, 0.9712230215827338, 0.9568345323741008],\n",
       "  [0.9712230215827338, 0.9640287769784173, 0.9640287769784173],\n",
       "  [0.9784172661870504, 0.9424460431654677, 0.9784172661870504],\n",
       "  [0.9712230215827338, 0.9928057553956835, 0.9784172661870504],\n",
       "  [0.9496402877697842, 0.9640287769784173, 0.9712230215827338],\n",
       "  [0.9856115107913669, 0.9568345323741008, 0.9568345323741008],\n",
       "  [0.9568345323741008, 0.9784172661870504, 0.9712230215827338],\n",
       "  [0.9640287769784173, 0.9424460431654677, 0.9640287769784173],\n",
       "  [0.9496402877697842, 0.9712230215827338, 0.9640287769784173],\n",
       "  [0.9712230215827338, 0.9784172661870504, 0.9568345323741008]]}"
      ]
     },
     "execution_count": 9,
     "metadata": {},
     "output_type": "execute_result"
    }
   ],
   "source": [
    "lg_model = LogisticRegression()\n",
    "\n",
    "lg_model_parameters = {'l2_penalty': np.linspace(1, 10, 10),\n",
    "             'alpha': np.linspace(0.001, 0.0001, 100),\n",
    "            'max_iter': np.linspace(1000, 2000, 200)}\n",
    "\n",
    "scores = randomized_search_cv(lg_model, dataset, lg_model_parameters, cv=3)\n",
    "scores"
   ]
  },
  {
   "cell_type": "code",
   "execution_count": null,
   "metadata": {},
   "outputs": [],
   "source": []
  }
 ],
 "metadata": {
  "kernelspec": {
   "display_name": "Python 3.10.6 64-bit",
   "language": "python",
   "name": "python3"
  },
  "language_info": {
   "codemirror_mode": {
    "name": "ipython",
    "version": 3
   },
   "file_extension": ".py",
   "mimetype": "text/x-python",
   "name": "python",
   "nbconvert_exporter": "python",
   "pygments_lexer": "ipython3",
   "version": "3.10.6"
  },
  "orig_nbformat": 4,
  "vscode": {
   "interpreter": {
    "hash": "916dbcbb3f70747c44a77c7bcd40155683ae19c65e1c03b4aa3499c5328201f1"
   }
  }
 },
 "nbformat": 4,
 "nbformat_minor": 2
}
