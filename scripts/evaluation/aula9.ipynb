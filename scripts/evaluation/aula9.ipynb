{
 "cells": [
  {
   "cell_type": "markdown",
   "metadata": {},
   "source": [
    "# Neural Networks test"
   ]
  },
  {
   "cell_type": "code",
   "execution_count": 18,
   "metadata": {},
   "outputs": [],
   "source": [
    "from src.si.neural_networks.layers import Dense\n",
    "from src.si.neural_networks.nn import NN\n",
    "from src.si.neural_networks.sigmoid_activation import SigmoidActivation\n",
    "from src.si.neural_networks.soft_max_activation import SoftMaxActivation\n",
    "from src.si.neural_networks.relu_activation import ReLUActivation\n",
    "from src.si.neural_networks.linear_activation import LinearActivation\n",
    "\n",
    "from src.si.data.dataset import Dataset\n",
    "import numpy as np"
   ]
  },
  {
   "cell_type": "markdown",
   "metadata": {},
   "source": [
    "Ex 10.3) Binary classification problem, 32 features on training, 3 dense layers (input, reduction of neurons by half and output) using SigmoidActivation"
   ]
  },
  {
   "cell_type": "code",
   "execution_count": 19,
   "metadata": {},
   "outputs": [],
   "source": [
    "x = np.random.randn(100, 32) \n",
    "y = np.random.randint(0, 2, size=(100, 1))\n",
    "\n",
    "dataset = Dataset(X=x, y=y)"
   ]
  },
  {
   "cell_type": "code",
   "execution_count": 20,
   "metadata": {},
   "outputs": [],
   "source": [
    "layer1 = Dense(input_size=32, output_size=32)\n",
    "layer2 = Dense(input_size=32, output_size=16)\n",
    "layer3 = Dense(input_size=16, output_size=1)\n",
    "\n",
    "layer1_activation = SigmoidActivation()\n",
    "layer2_activation = SigmoidActivation()\n",
    "layer3_activation = SigmoidActivation()"
   ]
  },
  {
   "cell_type": "code",
   "execution_count": 21,
   "metadata": {},
   "outputs": [],
   "source": [
    "nn_model3 = NN(layers=[layer1, layer1_activation, layer2, layer2_activation, layer3, layer3_activation])"
   ]
  },
  {
   "cell_type": "markdown",
   "metadata": {},
   "source": [
    "Ex 10.4) Multiclass classification problem (3 classes)"
   ]
  },
  {
   "cell_type": "code",
   "execution_count": 22,
   "metadata": {},
   "outputs": [],
   "source": [
    "x = np.random.randn(100, 32)  \n",
    "y = np.random.randint(0, 3, size=(100, 1)) \n",
    "\n",
    "dataset = Dataset(x, y)"
   ]
  },
  {
   "cell_type": "code",
   "execution_count": 23,
   "metadata": {},
   "outputs": [],
   "source": [
    "layer1 = Dense(input_size=32, output_size=32)\n",
    "layer2 = Dense(input_size=32, output_size=16)\n",
    "layer3 = Dense(input_size=16, output_size=1)\n",
    "\n",
    "layer1_activation = SigmoidActivation()\n",
    "layer2_activation = SigmoidActivation()\n",
    "layer3_activation = SoftMaxActivation()"
   ]
  },
  {
   "cell_type": "code",
   "execution_count": 24,
   "metadata": {},
   "outputs": [],
   "source": [
    "nn_model4 = NN(layers=[layer1, layer1_activation, layer2, layer2_activation, layer3, layer3_activation])"
   ]
  },
  {
   "cell_type": "markdown",
   "metadata": {},
   "source": [
    "Ex 10.5) Regression problem"
   ]
  },
  {
   "cell_type": "code",
   "execution_count": 25,
   "metadata": {},
   "outputs": [],
   "source": [
    "x = np.random.randn(100, 32)  \n",
    "y = np.random.randn(100, 1) \n",
    "\n",
    "dataset = Dataset(x, y)"
   ]
  },
  {
   "cell_type": "code",
   "execution_count": 26,
   "metadata": {},
   "outputs": [],
   "source": [
    "layer1 = Dense(input_size=32, output_size=32)\n",
    "layer2 = Dense(input_size=32, output_size=16)\n",
    "layer3 = Dense(input_size=16, output_size=1)\n",
    "\n",
    "layer1_activation = ReLUActivation()\n",
    "layer2_activation = ReLUActivation()\n",
    "layer3_activation = LinearActivation()"
   ]
  },
  {
   "cell_type": "code",
   "execution_count": 27,
   "metadata": {},
   "outputs": [],
   "source": [
    "nn_model5 = NN(layers=[layer1, layer1_activation, layer2, layer2_activation, layer3, layer3_activation])"
   ]
  },
  {
   "cell_type": "code",
   "execution_count": null,
   "metadata": {},
   "outputs": [],
   "source": []
  }
 ],
 "metadata": {
  "kernelspec": {
   "display_name": "Python 3.10.6 64-bit",
   "language": "python",
   "name": "python3"
  },
  "language_info": {
   "codemirror_mode": {
    "name": "ipython",
    "version": 3
   },
   "file_extension": ".py",
   "mimetype": "text/x-python",
   "name": "python",
   "nbconvert_exporter": "python",
   "pygments_lexer": "ipython3",
   "version": "3.10.6"
  },
  "orig_nbformat": 4,
  "vscode": {
   "interpreter": {
    "hash": "916dbcbb3f70747c44a77c7bcd40155683ae19c65e1c03b4aa3499c5328201f1"
   }
  }
 },
 "nbformat": 4,
 "nbformat_minor": 2
}
